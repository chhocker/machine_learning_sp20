{
 "cells": [
  {
   "cell_type": "code",
   "execution_count": 13,
   "metadata": {},
   "outputs": [],
   "source": [
    "import os\n",
    "os.chdir(\"/Users/Clair/machine_learning_sp20\")"
   ]
  },
  {
   "cell_type": "code",
   "execution_count": 14,
   "metadata": {},
   "outputs": [],
   "source": [
    "import numpy as np\n",
    "import pandas as pd\n",
    "import keras\n",
    "\n",
    "from sklearn.model_selection import train_test_split\n",
    "from keras.models import Sequential\n",
    "from keras.layers import Dense"
   ]
  },
  {
   "cell_type": "code",
   "execution_count": 15,
   "metadata": {},
   "outputs": [
    {
     "data": {
      "text/html": [
       "<div>\n",
       "<style scoped>\n",
       "    .dataframe tbody tr th:only-of-type {\n",
       "        vertical-align: middle;\n",
       "    }\n",
       "\n",
       "    .dataframe tbody tr th {\n",
       "        vertical-align: top;\n",
       "    }\n",
       "\n",
       "    .dataframe thead th {\n",
       "        text-align: right;\n",
       "    }\n",
       "</style>\n",
       "<table border=\"1\" class=\"dataframe\">\n",
       "  <thead>\n",
       "    <tr style=\"text-align: right;\">\n",
       "      <th></th>\n",
       "      <th>id</th>\n",
       "      <th>longitude</th>\n",
       "      <th>latitude</th>\n",
       "      <th>altitude</th>\n",
       "    </tr>\n",
       "  </thead>\n",
       "  <tbody>\n",
       "    <tr>\n",
       "      <td>0</td>\n",
       "      <td>144552912</td>\n",
       "      <td>9.349849</td>\n",
       "      <td>56.740876</td>\n",
       "      <td>17.052772</td>\n",
       "    </tr>\n",
       "    <tr>\n",
       "      <td>1</td>\n",
       "      <td>144552912</td>\n",
       "      <td>9.350188</td>\n",
       "      <td>56.740679</td>\n",
       "      <td>17.614840</td>\n",
       "    </tr>\n",
       "    <tr>\n",
       "      <td>2</td>\n",
       "      <td>144552912</td>\n",
       "      <td>9.350549</td>\n",
       "      <td>56.740544</td>\n",
       "      <td>18.083536</td>\n",
       "    </tr>\n",
       "    <tr>\n",
       "      <td>3</td>\n",
       "      <td>144552912</td>\n",
       "      <td>9.350806</td>\n",
       "      <td>56.740484</td>\n",
       "      <td>18.279465</td>\n",
       "    </tr>\n",
       "    <tr>\n",
       "      <td>4</td>\n",
       "      <td>144552912</td>\n",
       "      <td>9.351053</td>\n",
       "      <td>56.740486</td>\n",
       "      <td>18.422974</td>\n",
       "    </tr>\n",
       "    <tr>\n",
       "      <td>...</td>\n",
       "      <td>...</td>\n",
       "      <td>...</td>\n",
       "      <td>...</td>\n",
       "      <td>...</td>\n",
       "    </tr>\n",
       "    <tr>\n",
       "      <td>434869</td>\n",
       "      <td>93323205</td>\n",
       "      <td>9.936479</td>\n",
       "      <td>57.499686</td>\n",
       "      <td>20.134033</td>\n",
       "    </tr>\n",
       "    <tr>\n",
       "      <td>434870</td>\n",
       "      <td>93323205</td>\n",
       "      <td>9.935696</td>\n",
       "      <td>57.499426</td>\n",
       "      <td>20.580884</td>\n",
       "    </tr>\n",
       "    <tr>\n",
       "      <td>434871</td>\n",
       "      <td>93323205</td>\n",
       "      <td>9.935009</td>\n",
       "      <td>57.499282</td>\n",
       "      <td>19.733141</td>\n",
       "    </tr>\n",
       "    <tr>\n",
       "      <td>434872</td>\n",
       "      <td>93323209</td>\n",
       "      <td>9.943479</td>\n",
       "      <td>57.495919</td>\n",
       "      <td>24.027015</td>\n",
       "    </tr>\n",
       "    <tr>\n",
       "      <td>434873</td>\n",
       "      <td>93323209</td>\n",
       "      <td>9.943451</td>\n",
       "      <td>57.496270</td>\n",
       "      <td>24.635285</td>\n",
       "    </tr>\n",
       "  </tbody>\n",
       "</table>\n",
       "<p>434874 rows × 4 columns</p>\n",
       "</div>"
      ],
      "text/plain": [
       "               id  longitude   latitude   altitude\n",
       "0       144552912   9.349849  56.740876  17.052772\n",
       "1       144552912   9.350188  56.740679  17.614840\n",
       "2       144552912   9.350549  56.740544  18.083536\n",
       "3       144552912   9.350806  56.740484  18.279465\n",
       "4       144552912   9.351053  56.740486  18.422974\n",
       "...           ...        ...        ...        ...\n",
       "434869   93323205   9.936479  57.499686  20.134033\n",
       "434870   93323205   9.935696  57.499426  20.580884\n",
       "434871   93323205   9.935009  57.499282  19.733141\n",
       "434872   93323209   9.943479  57.495919  24.027015\n",
       "434873   93323209   9.943451  57.496270  24.635285\n",
       "\n",
       "[434874 rows x 4 columns]"
      ]
     },
     "execution_count": 15,
     "metadata": {},
     "output_type": "execute_result"
    }
   ],
   "source": [
    "#################################################################\n",
    "# DATASET #2\n",
    "# Breast Cancer Tumor Analysis\n",
    "# -Classification\n",
    "#################################################################\n",
    "road_columns = [\"id\", \"longitude\", \"latitude\", \"altitude\"]\n",
    "spn_data = pd.read_csv(\"3D_spatial_network.txt\", delimiter=\",\", names=road_columns, header=None)\n",
    "spn_data"
   ]
  },
  {
   "cell_type": "code",
   "execution_count": 16,
   "metadata": {},
   "outputs": [],
   "source": [
    "spn_targets = spn_data[\"altitude\"]\n",
    "spn_data = spn_data.drop(columns=[\"altitude\", \"id\"])\n",
    "\n",
    "spn_data = spn_data[:].values"
   ]
  },
  {
   "cell_type": "code",
   "execution_count": 17,
   "metadata": {},
   "outputs": [],
   "source": [
    "train_data, test_data, train_targets, test_targets = train_test_split(spn_data, spn_targets, \n",
    "                                                                      test_size = 0.3, shuffle = True)"
   ]
  },
  {
   "cell_type": "code",
   "execution_count": 23,
   "metadata": {},
   "outputs": [],
   "source": [
    "classifier = Sequential()"
   ]
  },
  {
   "cell_type": "code",
   "execution_count": 24,
   "metadata": {},
   "outputs": [],
   "source": [
    "classifier.add(Dense(12, input_dim=2, activation='relu'))\n",
    "classifier.add(Dense(8, activation='relu'))\n",
    "classifier.add(Dense(1, activation='sigmoid'))"
   ]
  },
  {
   "cell_type": "code",
   "execution_count": 26,
   "metadata": {
    "scrolled": true
   },
   "outputs": [
    {
     "name": "stdout",
     "output_type": "stream",
     "text": [
      "Train on 304411 samples, validate on 130463 samples\n",
      "Epoch 1/100\n",
      "304411/304411 [==============================] - 122s 401us/step - loss: -694399279110.7546 - accuracy: 0.0000e+00 - val_loss: -792387553103.0686 - val_accuracy: 0.0000e+00\n",
      "Epoch 2/100\n",
      "304411/304411 [==============================] - 121s 397us/step - loss: -905758821511.3051 - accuracy: 0.0000e+00 - val_loss: -1022354367469.2332 - val_accuracy: 0.0000e+00\n",
      "Epoch 3/100\n",
      "304411/304411 [==============================] - 119s 390us/step - loss: -1156244477788.9126 - accuracy: 0.0000e+00 - val_loss: -1292756679259.2874 - val_accuracy: 0.0000e+00\n",
      "Epoch 4/100\n",
      "304411/304411 [==============================] - 112s 368us/step - loss: -1448799556043.0071 - accuracy: 0.0000e+00 - val_loss: -1606880796127.7839 - val_accuracy: 0.0000e+00\n",
      "Epoch 5/100\n",
      "304411/304411 [==============================] - 116s 380us/step - loss: -1786662081693.7285 - accuracy: 0.0000e+00 - val_loss: -1967802456516.3989 - val_accuracy: 0.0000e+00\n",
      "Epoch 6/100\n",
      "304411/304411 [==============================] - 128s 420us/step - loss: -2173589943921.3071 - accuracy: 0.0000e+00 - val_loss: -2379444079612.8838 - val_accuracy: 0.0000e+00\n",
      "Epoch 7/100\n",
      "304411/304411 [==============================] - 118s 387us/step - loss: -2612365570074.6821 - accuracy: 0.0000e+00 - val_loss: -2844514301861.4385 - val_accuracy: 0.0000e+00\n",
      "Epoch 8/100\n",
      "304411/304411 [==============================] - 127s 416us/step - loss: -3106109607630.8433 - accuracy: 0.0000e+00 - val_loss: -3366741960327.4536 - val_accuracy: 0.0000e+00\n",
      "Epoch 9/100\n",
      "304411/304411 [==============================] - 131s 430us/step - loss: -3659344343376.1050 - accuracy: 0.0000e+00 - val_loss: -3949003691213.8706 - val_accuracy: 0.0000e+00\n",
      "Epoch 10/100\n",
      "304411/304411 [==============================] - 125s 409us/step - loss: -4274111136781.0957 - accuracy: 0.0000e+00 - val_loss: -4594633652420.2715 - val_accuracy: 0.0000e+00\n",
      "Epoch 11/100\n",
      "304411/304411 [==============================] - 125s 410us/step - loss: -4954304536388.5645 - accuracy: 0.0000e+00 - val_loss: -5306833059351.8574 - val_accuracy: 0.0000e+00\n",
      "Epoch 12/100\n",
      "304411/304411 [==============================] - 109s 359us/step - loss: -5702646917533.1445 - accuracy: 0.0000e+00 - val_loss: -6089181081724.4219 - val_accuracy: 0.0000e+00\n",
      "Epoch 13/100\n",
      "304411/304411 [==============================] - 128s 420us/step - loss: -6522648902673.0449 - accuracy: 0.0000e+00 - val_loss: -6944389241603.3809 - val_accuracy: 0.0000e+00\n",
      "Epoch 14/100\n",
      "304411/304411 [==============================] - 129s 424us/step - loss: -7417253382083.5918 - accuracy: 0.0000e+00 - val_loss: -7876203642473.1094 - val_accuracy: 0.0000e+00\n",
      "Epoch 15/100\n",
      "304411/304411 [==============================] - 124s 407us/step - loss: -8390875428591.0342 - accuracy: 0.0000e+00 - val_loss: -8887571140939.1953 - val_accuracy: 0.0000e+00\n",
      "Epoch 16/100\n",
      "304230/304411 [============================>.] - ETA: 0s - loss: -9445803643810.1934 - accuracy: 0.0000e+00"
     ]
    },
    {
     "ename": "KeyboardInterrupt",
     "evalue": "",
     "output_type": "error",
     "traceback": [
      "\u001b[1;31m---------------------------------------------------------------------------\u001b[0m",
      "\u001b[1;31mKeyboardInterrupt\u001b[0m                         Traceback (most recent call last)",
      "\u001b[1;32m<ipython-input-26-15efef57e084>\u001b[0m in \u001b[0;36m<module>\u001b[1;34m\u001b[0m\n\u001b[0;32m      2\u001b[0m \u001b[0mclassifier\u001b[0m\u001b[1;33m.\u001b[0m\u001b[0mcompile\u001b[0m\u001b[1;33m(\u001b[0m\u001b[0mloss\u001b[0m\u001b[1;33m=\u001b[0m\u001b[1;34m'binary_crossentropy'\u001b[0m\u001b[1;33m,\u001b[0m \u001b[0moptimizer\u001b[0m\u001b[1;33m=\u001b[0m\u001b[1;34m'adam'\u001b[0m\u001b[1;33m,\u001b[0m \u001b[0mmetrics\u001b[0m\u001b[1;33m=\u001b[0m\u001b[1;33m[\u001b[0m\u001b[1;34m'accuracy'\u001b[0m\u001b[1;33m]\u001b[0m\u001b[1;33m)\u001b[0m\u001b[1;33m\u001b[0m\u001b[1;33m\u001b[0m\u001b[0m\n\u001b[0;32m      3\u001b[0m \u001b[1;31m# Fit the model\u001b[0m\u001b[1;33m\u001b[0m\u001b[1;33m\u001b[0m\u001b[1;33m\u001b[0m\u001b[0m\n\u001b[1;32m----> 4\u001b[1;33m \u001b[0mclassifier\u001b[0m\u001b[1;33m.\u001b[0m\u001b[0mfit\u001b[0m\u001b[1;33m(\u001b[0m\u001b[0mtrain_data\u001b[0m\u001b[1;33m,\u001b[0m \u001b[0mtrain_targets\u001b[0m\u001b[1;33m,\u001b[0m \u001b[0mvalidation_data\u001b[0m\u001b[1;33m=\u001b[0m\u001b[1;33m(\u001b[0m\u001b[0mtest_data\u001b[0m\u001b[1;33m,\u001b[0m \u001b[0mtest_targets\u001b[0m\u001b[1;33m)\u001b[0m\u001b[1;33m,\u001b[0m \u001b[0mepochs\u001b[0m\u001b[1;33m=\u001b[0m\u001b[1;36m100\u001b[0m\u001b[1;33m,\u001b[0m \u001b[0mbatch_size\u001b[0m\u001b[1;33m=\u001b[0m\u001b[1;36m10\u001b[0m\u001b[1;33m)\u001b[0m\u001b[1;33m\u001b[0m\u001b[1;33m\u001b[0m\u001b[0m\n\u001b[0m",
      "\u001b[1;32m~\\Anaconda3\\lib\\site-packages\\keras\\engine\\training.py\u001b[0m in \u001b[0;36mfit\u001b[1;34m(self, x, y, batch_size, epochs, verbose, callbacks, validation_split, validation_data, shuffle, class_weight, sample_weight, initial_epoch, steps_per_epoch, validation_steps, validation_freq, max_queue_size, workers, use_multiprocessing, **kwargs)\u001b[0m\n\u001b[0;32m   1237\u001b[0m                                         \u001b[0msteps_per_epoch\u001b[0m\u001b[1;33m=\u001b[0m\u001b[0msteps_per_epoch\u001b[0m\u001b[1;33m,\u001b[0m\u001b[1;33m\u001b[0m\u001b[1;33m\u001b[0m\u001b[0m\n\u001b[0;32m   1238\u001b[0m                                         \u001b[0mvalidation_steps\u001b[0m\u001b[1;33m=\u001b[0m\u001b[0mvalidation_steps\u001b[0m\u001b[1;33m,\u001b[0m\u001b[1;33m\u001b[0m\u001b[1;33m\u001b[0m\u001b[0m\n\u001b[1;32m-> 1239\u001b[1;33m                                         validation_freq=validation_freq)\n\u001b[0m\u001b[0;32m   1240\u001b[0m \u001b[1;33m\u001b[0m\u001b[0m\n\u001b[0;32m   1241\u001b[0m     def evaluate(self,\n",
      "\u001b[1;32m~\\Anaconda3\\lib\\site-packages\\keras\\engine\\training_arrays.py\u001b[0m in \u001b[0;36mfit_loop\u001b[1;34m(model, fit_function, fit_inputs, out_labels, batch_size, epochs, verbose, callbacks, val_function, val_inputs, shuffle, initial_epoch, steps_per_epoch, validation_steps, validation_freq)\u001b[0m\n\u001b[0;32m    208\u001b[0m                                          \u001b[0mbatch_size\u001b[0m\u001b[1;33m=\u001b[0m\u001b[0mbatch_size\u001b[0m\u001b[1;33m,\u001b[0m\u001b[1;33m\u001b[0m\u001b[1;33m\u001b[0m\u001b[0m\n\u001b[0;32m    209\u001b[0m                                          \u001b[0mcallbacks\u001b[0m\u001b[1;33m=\u001b[0m\u001b[0mcallbacks\u001b[0m\u001b[1;33m,\u001b[0m\u001b[1;33m\u001b[0m\u001b[1;33m\u001b[0m\u001b[0m\n\u001b[1;32m--> 210\u001b[1;33m                                          verbose=0)\n\u001b[0m\u001b[0;32m    211\u001b[0m                     \u001b[0mval_outs\u001b[0m \u001b[1;33m=\u001b[0m \u001b[0mto_list\u001b[0m\u001b[1;33m(\u001b[0m\u001b[0mval_outs\u001b[0m\u001b[1;33m)\u001b[0m\u001b[1;33m\u001b[0m\u001b[1;33m\u001b[0m\u001b[0m\n\u001b[0;32m    212\u001b[0m                     \u001b[1;31m# Same labels assumed.\u001b[0m\u001b[1;33m\u001b[0m\u001b[1;33m\u001b[0m\u001b[1;33m\u001b[0m\u001b[0m\n",
      "\u001b[1;32m~\\Anaconda3\\lib\\site-packages\\keras\\engine\\training_arrays.py\u001b[0m in \u001b[0;36mtest_loop\u001b[1;34m(model, f, ins, batch_size, verbose, steps, callbacks)\u001b[0m\n\u001b[0;32m    447\u001b[0m             \u001b[0mbatch_logs\u001b[0m \u001b[1;33m=\u001b[0m \u001b[1;33m{\u001b[0m\u001b[1;34m'batch'\u001b[0m\u001b[1;33m:\u001b[0m \u001b[0mbatch_index\u001b[0m\u001b[1;33m,\u001b[0m \u001b[1;34m'size'\u001b[0m\u001b[1;33m:\u001b[0m \u001b[0mlen\u001b[0m\u001b[1;33m(\u001b[0m\u001b[0mbatch_ids\u001b[0m\u001b[1;33m)\u001b[0m\u001b[1;33m}\u001b[0m\u001b[1;33m\u001b[0m\u001b[1;33m\u001b[0m\u001b[0m\n\u001b[0;32m    448\u001b[0m             \u001b[0mcallbacks\u001b[0m\u001b[1;33m.\u001b[0m\u001b[0m_call_batch_hook\u001b[0m\u001b[1;33m(\u001b[0m\u001b[1;34m'test'\u001b[0m\u001b[1;33m,\u001b[0m \u001b[1;34m'begin'\u001b[0m\u001b[1;33m,\u001b[0m \u001b[0mbatch_index\u001b[0m\u001b[1;33m,\u001b[0m \u001b[0mbatch_logs\u001b[0m\u001b[1;33m)\u001b[0m\u001b[1;33m\u001b[0m\u001b[1;33m\u001b[0m\u001b[0m\n\u001b[1;32m--> 449\u001b[1;33m             \u001b[0mbatch_outs\u001b[0m \u001b[1;33m=\u001b[0m \u001b[0mf\u001b[0m\u001b[1;33m(\u001b[0m\u001b[0mins_batch\u001b[0m\u001b[1;33m)\u001b[0m\u001b[1;33m\u001b[0m\u001b[1;33m\u001b[0m\u001b[0m\n\u001b[0m\u001b[0;32m    450\u001b[0m             \u001b[1;32mif\u001b[0m \u001b[0misinstance\u001b[0m\u001b[1;33m(\u001b[0m\u001b[0mbatch_outs\u001b[0m\u001b[1;33m,\u001b[0m \u001b[0mlist\u001b[0m\u001b[1;33m)\u001b[0m\u001b[1;33m:\u001b[0m\u001b[1;33m\u001b[0m\u001b[1;33m\u001b[0m\u001b[0m\n\u001b[0;32m    451\u001b[0m                 \u001b[1;32mif\u001b[0m \u001b[0mbatch_index\u001b[0m \u001b[1;33m==\u001b[0m \u001b[1;36m0\u001b[0m\u001b[1;33m:\u001b[0m\u001b[1;33m\u001b[0m\u001b[1;33m\u001b[0m\u001b[0m\n",
      "\u001b[1;32m~\\Anaconda3\\lib\\site-packages\\tensorflow_core\\python\\keras\\backend.py\u001b[0m in \u001b[0;36m__call__\u001b[1;34m(self, inputs)\u001b[0m\n\u001b[0;32m   3725\u001b[0m         \u001b[0mvalue\u001b[0m \u001b[1;33m=\u001b[0m \u001b[0mmath_ops\u001b[0m\u001b[1;33m.\u001b[0m\u001b[0mcast\u001b[0m\u001b[1;33m(\u001b[0m\u001b[0mvalue\u001b[0m\u001b[1;33m,\u001b[0m \u001b[0mtensor\u001b[0m\u001b[1;33m.\u001b[0m\u001b[0mdtype\u001b[0m\u001b[1;33m)\u001b[0m\u001b[1;33m\u001b[0m\u001b[1;33m\u001b[0m\u001b[0m\n\u001b[0;32m   3726\u001b[0m       \u001b[0mconverted_inputs\u001b[0m\u001b[1;33m.\u001b[0m\u001b[0mappend\u001b[0m\u001b[1;33m(\u001b[0m\u001b[0mvalue\u001b[0m\u001b[1;33m)\u001b[0m\u001b[1;33m\u001b[0m\u001b[1;33m\u001b[0m\u001b[0m\n\u001b[1;32m-> 3727\u001b[1;33m     \u001b[0moutputs\u001b[0m \u001b[1;33m=\u001b[0m \u001b[0mself\u001b[0m\u001b[1;33m.\u001b[0m\u001b[0m_graph_fn\u001b[0m\u001b[1;33m(\u001b[0m\u001b[1;33m*\u001b[0m\u001b[0mconverted_inputs\u001b[0m\u001b[1;33m)\u001b[0m\u001b[1;33m\u001b[0m\u001b[1;33m\u001b[0m\u001b[0m\n\u001b[0m\u001b[0;32m   3728\u001b[0m \u001b[1;33m\u001b[0m\u001b[0m\n\u001b[0;32m   3729\u001b[0m     \u001b[1;31m# EagerTensor.numpy() will often make a copy to ensure memory safety.\u001b[0m\u001b[1;33m\u001b[0m\u001b[1;33m\u001b[0m\u001b[1;33m\u001b[0m\u001b[0m\n",
      "\u001b[1;32m~\\Anaconda3\\lib\\site-packages\\tensorflow_core\\python\\eager\\function.py\u001b[0m in \u001b[0;36m__call__\u001b[1;34m(self, *args, **kwargs)\u001b[0m\n\u001b[0;32m   1549\u001b[0m       \u001b[0mTypeError\u001b[0m\u001b[1;33m:\u001b[0m \u001b[0mFor\u001b[0m \u001b[0minvalid\u001b[0m \u001b[0mpositional\u001b[0m\u001b[1;33m/\u001b[0m\u001b[0mkeyword\u001b[0m \u001b[0margument\u001b[0m \u001b[0mcombinations\u001b[0m\u001b[1;33m.\u001b[0m\u001b[1;33m\u001b[0m\u001b[1;33m\u001b[0m\u001b[0m\n\u001b[0;32m   1550\u001b[0m     \"\"\"\n\u001b[1;32m-> 1551\u001b[1;33m     \u001b[1;32mreturn\u001b[0m \u001b[0mself\u001b[0m\u001b[1;33m.\u001b[0m\u001b[0m_call_impl\u001b[0m\u001b[1;33m(\u001b[0m\u001b[0margs\u001b[0m\u001b[1;33m,\u001b[0m \u001b[0mkwargs\u001b[0m\u001b[1;33m)\u001b[0m\u001b[1;33m\u001b[0m\u001b[1;33m\u001b[0m\u001b[0m\n\u001b[0m\u001b[0;32m   1552\u001b[0m \u001b[1;33m\u001b[0m\u001b[0m\n\u001b[0;32m   1553\u001b[0m   \u001b[1;32mdef\u001b[0m \u001b[0m_call_impl\u001b[0m\u001b[1;33m(\u001b[0m\u001b[0mself\u001b[0m\u001b[1;33m,\u001b[0m \u001b[0margs\u001b[0m\u001b[1;33m,\u001b[0m \u001b[0mkwargs\u001b[0m\u001b[1;33m,\u001b[0m \u001b[0mcancellation_manager\u001b[0m\u001b[1;33m=\u001b[0m\u001b[1;32mNone\u001b[0m\u001b[1;33m)\u001b[0m\u001b[1;33m:\u001b[0m\u001b[1;33m\u001b[0m\u001b[1;33m\u001b[0m\u001b[0m\n",
      "\u001b[1;32m~\\Anaconda3\\lib\\site-packages\\tensorflow_core\\python\\eager\\function.py\u001b[0m in \u001b[0;36m_call_impl\u001b[1;34m(self, args, kwargs, cancellation_manager)\u001b[0m\n\u001b[0;32m   1589\u001b[0m       raise TypeError(\"Keyword arguments {} unknown. Expected {}.\".format(\n\u001b[0;32m   1590\u001b[0m           list(kwargs.keys()), list(self._arg_keywords)))\n\u001b[1;32m-> 1591\u001b[1;33m     \u001b[1;32mreturn\u001b[0m \u001b[0mself\u001b[0m\u001b[1;33m.\u001b[0m\u001b[0m_call_flat\u001b[0m\u001b[1;33m(\u001b[0m\u001b[0margs\u001b[0m\u001b[1;33m,\u001b[0m \u001b[0mself\u001b[0m\u001b[1;33m.\u001b[0m\u001b[0mcaptured_inputs\u001b[0m\u001b[1;33m,\u001b[0m \u001b[0mcancellation_manager\u001b[0m\u001b[1;33m)\u001b[0m\u001b[1;33m\u001b[0m\u001b[1;33m\u001b[0m\u001b[0m\n\u001b[0m\u001b[0;32m   1592\u001b[0m \u001b[1;33m\u001b[0m\u001b[0m\n\u001b[0;32m   1593\u001b[0m   \u001b[1;32mdef\u001b[0m \u001b[0m_filtered_call\u001b[0m\u001b[1;33m(\u001b[0m\u001b[0mself\u001b[0m\u001b[1;33m,\u001b[0m \u001b[0margs\u001b[0m\u001b[1;33m,\u001b[0m \u001b[0mkwargs\u001b[0m\u001b[1;33m)\u001b[0m\u001b[1;33m:\u001b[0m\u001b[1;33m\u001b[0m\u001b[1;33m\u001b[0m\u001b[0m\n",
      "\u001b[1;32m~\\Anaconda3\\lib\\site-packages\\tensorflow_core\\python\\eager\\function.py\u001b[0m in \u001b[0;36m_call_flat\u001b[1;34m(self, args, captured_inputs, cancellation_manager)\u001b[0m\n\u001b[0;32m   1690\u001b[0m       \u001b[1;31m# No tape is watching; skip to running the function.\u001b[0m\u001b[1;33m\u001b[0m\u001b[1;33m\u001b[0m\u001b[1;33m\u001b[0m\u001b[0m\n\u001b[0;32m   1691\u001b[0m       return self._build_call_outputs(self._inference_function.call(\n\u001b[1;32m-> 1692\u001b[1;33m           ctx, args, cancellation_manager=cancellation_manager))\n\u001b[0m\u001b[0;32m   1693\u001b[0m     forward_backward = self._select_forward_and_backward_functions(\n\u001b[0;32m   1694\u001b[0m         \u001b[0margs\u001b[0m\u001b[1;33m,\u001b[0m\u001b[1;33m\u001b[0m\u001b[1;33m\u001b[0m\u001b[0m\n",
      "\u001b[1;32m~\\Anaconda3\\lib\\site-packages\\tensorflow_core\\python\\eager\\function.py\u001b[0m in \u001b[0;36mcall\u001b[1;34m(self, ctx, args, cancellation_manager)\u001b[0m\n\u001b[0;32m    543\u001b[0m               \u001b[0minputs\u001b[0m\u001b[1;33m=\u001b[0m\u001b[0margs\u001b[0m\u001b[1;33m,\u001b[0m\u001b[1;33m\u001b[0m\u001b[1;33m\u001b[0m\u001b[0m\n\u001b[0;32m    544\u001b[0m               \u001b[0mattrs\u001b[0m\u001b[1;33m=\u001b[0m\u001b[1;33m(\u001b[0m\u001b[1;34m\"executor_type\"\u001b[0m\u001b[1;33m,\u001b[0m \u001b[0mexecutor_type\u001b[0m\u001b[1;33m,\u001b[0m \u001b[1;34m\"config_proto\"\u001b[0m\u001b[1;33m,\u001b[0m \u001b[0mconfig\u001b[0m\u001b[1;33m)\u001b[0m\u001b[1;33m,\u001b[0m\u001b[1;33m\u001b[0m\u001b[1;33m\u001b[0m\u001b[0m\n\u001b[1;32m--> 545\u001b[1;33m               ctx=ctx)\n\u001b[0m\u001b[0;32m    546\u001b[0m         \u001b[1;32melse\u001b[0m\u001b[1;33m:\u001b[0m\u001b[1;33m\u001b[0m\u001b[1;33m\u001b[0m\u001b[0m\n\u001b[0;32m    547\u001b[0m           outputs = execute.execute_with_cancellation(\n",
      "\u001b[1;32m~\\Anaconda3\\lib\\site-packages\\tensorflow_core\\python\\eager\\execute.py\u001b[0m in \u001b[0;36mquick_execute\u001b[1;34m(op_name, num_outputs, inputs, attrs, ctx, name)\u001b[0m\n\u001b[0;32m     59\u001b[0m     tensors = pywrap_tensorflow.TFE_Py_Execute(ctx._handle, device_name,\n\u001b[0;32m     60\u001b[0m                                                \u001b[0mop_name\u001b[0m\u001b[1;33m,\u001b[0m \u001b[0minputs\u001b[0m\u001b[1;33m,\u001b[0m \u001b[0mattrs\u001b[0m\u001b[1;33m,\u001b[0m\u001b[1;33m\u001b[0m\u001b[1;33m\u001b[0m\u001b[0m\n\u001b[1;32m---> 61\u001b[1;33m                                                num_outputs)\n\u001b[0m\u001b[0;32m     62\u001b[0m   \u001b[1;32mexcept\u001b[0m \u001b[0mcore\u001b[0m\u001b[1;33m.\u001b[0m\u001b[0m_NotOkStatusException\u001b[0m \u001b[1;32mas\u001b[0m \u001b[0me\u001b[0m\u001b[1;33m:\u001b[0m\u001b[1;33m\u001b[0m\u001b[1;33m\u001b[0m\u001b[0m\n\u001b[0;32m     63\u001b[0m     \u001b[1;32mif\u001b[0m \u001b[0mname\u001b[0m \u001b[1;32mis\u001b[0m \u001b[1;32mnot\u001b[0m \u001b[1;32mNone\u001b[0m\u001b[1;33m:\u001b[0m\u001b[1;33m\u001b[0m\u001b[1;33m\u001b[0m\u001b[0m\n",
      "\u001b[1;31mKeyboardInterrupt\u001b[0m: "
     ]
    }
   ],
   "source": [
    "# Compile model\n",
    "classifier.compile(loss='binary_crossentropy', optimizer='adam', metrics=['accuracy'])\n",
    "# Fit the model\n",
    "classifier.fit(train_data, train_targets, validation_data=(test_data, test_targets), epochs=100, batch_size=10)\n"
   ]
  },
  {
   "cell_type": "code",
   "execution_count": 12,
   "metadata": {},
   "outputs": [
    {
     "name": "stdout",
     "output_type": "stream",
     "text": [
      "0 130463\n",
      "Percent correctly classified: 0.0\n"
     ]
    }
   ],
   "source": [
    "\n"
   ]
  },
  {
   "cell_type": "code",
   "execution_count": 15,
   "metadata": {},
   "outputs": [
    {
     "name": "stdout",
     "output_type": "stream",
     "text": [
      "Train: -6205.998, Test: 0.000\n"
     ]
    }
   ],
   "source": []
  },
  {
   "cell_type": "code",
   "execution_count": 14,
   "metadata": {},
   "outputs": [
    {
     "name": "stdout",
     "output_type": "stream",
     "text": [
      "161 10\n",
      "Percent correctly classified: 94.0\n"
     ]
    }
   ],
   "source": []
  },
  {
   "cell_type": "code",
   "execution_count": 15,
   "metadata": {},
   "outputs": [],
   "source": [
    "#################################################################\n",
    "# DATASET #2\n",
    "# Forest Fires\n",
    "# -Regression\n",
    "# -Label Encoding\n",
    "#################################################################"
   ]
  },
  {
   "cell_type": "code",
   "execution_count": 34,
   "metadata": {
    "scrolled": true
   },
   "outputs": [],
   "source": [
    "# READ IN DATA\n",
    "fire_columns = [\"x_coord\", \"y_coord\", \"month\", \"day\", \"ffmc\", \"dmc\", \"dc\", \n",
    "                  \"isi\", \"temp\", \"rel_humid\", \"wind\", \"rain\",\n",
    "                 \"area\"]\n",
    "fire_data = pd.read_csv(\"forestfires.csv\", names=fire_columns, header=None)"
   ]
  },
  {
   "cell_type": "code",
   "execution_count": 35,
   "metadata": {},
   "outputs": [],
   "source": [
    "# ENCODE STRING DATA\n",
    "fire_data[\"month_num\"] = fire_data.month.map({\"jan\": 1, \"feb\": 2, \"mar\": 3, \"apr\": 4, \"may\": 5, \"jun\": 6, \n",
    "                                              \"jul\": 7, \"aug\": 8, \"sep\": 9, \"oct\": 10, \"nov\": 11, \"dec\": 12})\n",
    "\n",
    "fire_data[\"week_day_num\"] = fire_data.day.map({\"sun\": 1, \"mon\": 2, \"tue\": 3, \"wed\": 4, \"thu\": 5, \"fri\": 6, \"sat\":7})\n",
    "\n",
    "fire_data = fire_data.drop(columns=[\"month\", \"day\"])\n"
   ]
  },
  {
   "cell_type": "code",
   "execution_count": 36,
   "metadata": {},
   "outputs": [],
   "source": [
    "fire_targets = fire_data[\"area\"]\n",
    "fire_data = fire_data.drop(columns=[\"area\"])"
   ]
  },
  {
   "cell_type": "code",
   "execution_count": 37,
   "metadata": {},
   "outputs": [],
   "source": [
    "train_data, test_data, train_targets, test_targets = train_test_split(fire_data, fire_targets, \n",
    "                                                                      test_size = 0.3, shuffle = True)\n",
    "classifier = Sequential()"
   ]
  },
  {
   "cell_type": "code",
   "execution_count": 38,
   "metadata": {},
   "outputs": [],
   "source": [
    "#Input layer with 5 inputs neurons\n",
    "classifier.add(Dense(activation=\"relu\", input_dim=12, units=3, kernel_initializer=\"uniform\"))\n",
    "#Hidden layer\n",
    "classifier.add(Dense(activation=\"relu\", units=2, kernel_initializer=\"uniform\"))\n",
    "\n",
    "#output layer with 1 output neuron which will predict 1 or 0\n",
    "classifier.add(Dense(activation=\"sigmoid\", units=1, kernel_initializer=\"uniform\"))"
   ]
  },
  {
   "cell_type": "code",
   "execution_count": 40,
   "metadata": {},
   "outputs": [
    {
     "name": "stdout",
     "output_type": "stream",
     "text": [
      "Epoch 1/100\n",
      "361/361 [==============================] - 0s 674us/step - loss: -231616.1698 - accuracy: 0.0000e+00\n",
      "Epoch 2/100\n",
      "361/361 [==============================] - 0s 175us/step - loss: -236553.0359 - accuracy: 0.0000e+00\n",
      "Epoch 3/100\n",
      "361/361 [==============================] - 0s 171us/step - loss: -240830.9093 - accuracy: 0.0000e+00\n",
      "Epoch 4/100\n",
      "361/361 [==============================] - 0s 174us/step - loss: -245740.4595 - accuracy: 0.0000e+00\n",
      "Epoch 5/100\n",
      "361/361 [==============================] - 0s 201us/step - loss: -250444.1101 - accuracy: 0.0000e+00\n",
      "Epoch 6/100\n",
      "361/361 [==============================] - 0s 196us/step - loss: -255487.2917 - accuracy: 0.0000e+00\n",
      "Epoch 7/100\n",
      "361/361 [==============================] - 0s 237us/step - loss: -260526.0813 - accuracy: 0.0000e+00\n",
      "Epoch 8/100\n",
      "361/361 [==============================] - 0s 228us/step - loss: -265688.0286 - accuracy: 0.0000e+00\n",
      "Epoch 9/100\n",
      "361/361 [==============================] - 0s 219us/step - loss: -270973.6555 - accuracy: 0.0000e+00\n",
      "Epoch 10/100\n",
      "361/361 [==============================] - 0s 214us/step - loss: -276443.4805 - accuracy: 0.0000e+00\n",
      "Epoch 11/100\n",
      "361/361 [==============================] - 0s 174us/step - loss: -282039.1987 - accuracy: 0.0000e+00\n",
      "Epoch 12/100\n",
      "361/361 [==============================] - 0s 168us/step - loss: -287905.8553 - accuracy: 0.0000e+00\n",
      "Epoch 13/100\n",
      "361/361 [==============================] - 0s 200us/step - loss: -293498.2580 - accuracy: 0.0000e+00\n",
      "Epoch 14/100\n",
      "361/361 [==============================] - 0s 221us/step - loss: -299551.1170 - accuracy: 0.0000e+00\n",
      "Epoch 15/100\n",
      "361/361 [==============================] - 0s 225us/step - loss: -305537.3558 - accuracy: 0.0000e+00\n",
      "Epoch 16/100\n",
      "361/361 [==============================] - 0s 213us/step - loss: -311687.6835 - accuracy: 0.0000e+00\n",
      "Epoch 17/100\n",
      "361/361 [==============================] - 0s 208us/step - loss: -317804.6316 - accuracy: 0.0000e+00\n",
      "Epoch 18/100\n",
      "361/361 [==============================] - 0s 210us/step - loss: -324685.4895 - accuracy: 0.0000e+00\n",
      "Epoch 19/100\n",
      "361/361 [==============================] - 0s 204us/step - loss: -331122.2474 - accuracy: 0.0000e+00\n",
      "Epoch 20/100\n",
      "361/361 [==============================] - 0s 245us/step - loss: -337763.2851 - accuracy: 0.0000e+00\n",
      "Epoch 21/100\n",
      "361/361 [==============================] - 0s 328us/step - loss: -344476.3997 - accuracy: 0.0000e+00\n",
      "Epoch 22/100\n",
      "361/361 [==============================] - 0s 218us/step - loss: -351171.7688 - accuracy: 0.0000e+00\n",
      "Epoch 23/100\n",
      "361/361 [==============================] - 0s 175us/step - loss: -358027.2832 - accuracy: 0.0000e+00\n",
      "Epoch 24/100\n",
      "361/361 [==============================] - 0s 248us/step - loss: -364422.5920 - accuracy: 0.0000e+00\n",
      "Epoch 25/100\n",
      "361/361 [==============================] - 0s 245us/step - loss: -371921.5383 - accuracy: 0.0000e+00\n",
      "Epoch 26/100\n",
      "361/361 [==============================] - 0s 205us/step - loss: -379563.1052 - accuracy: 0.0000e+00\n",
      "Epoch 27/100\n",
      "361/361 [==============================] - 0s 218us/step - loss: -386386.0913 - accuracy: 0.0000e+00\n",
      "Epoch 28/100\n",
      "361/361 [==============================] - 0s 173us/step - loss: -394285.5013 - accuracy: 0.0000e+00\n",
      "Epoch 29/100\n",
      "361/361 [==============================] - 0s 186us/step - loss: -401744.8223 - accuracy: 0.0000e+00\n",
      "Epoch 30/100\n",
      "361/361 [==============================] - 0s 193us/step - loss: -409413.3066 - accuracy: 0.0000e+00\n",
      "Epoch 31/100\n",
      "361/361 [==============================] - 0s 181us/step - loss: -417634.7880 - accuracy: 0.0000e+00\n",
      "Epoch 32/100\n",
      "361/361 [==============================] - 0s 188us/step - loss: -425234.4526 - accuracy: 0.0000e+00\n",
      "Epoch 33/100\n",
      "361/361 [==============================] - 0s 237us/step - loss: -433790.4524 - accuracy: 0.0000e+00\n",
      "Epoch 34/100\n",
      "361/361 [==============================] - 0s 228us/step - loss: -442272.5012 - accuracy: 0.0000e+00\n",
      "Epoch 35/100\n",
      "361/361 [==============================] - 0s 238us/step - loss: -450555.5848 - accuracy: 0.0000e+00\n",
      "Epoch 36/100\n",
      "361/361 [==============================] - 0s 232us/step - loss: -458633.9222 - accuracy: 0.0000e+00\n",
      "Epoch 37/100\n",
      "361/361 [==============================] - 0s 222us/step - loss: -467915.8828 - accuracy: 0.0000e+00\n",
      "Epoch 38/100\n",
      "361/361 [==============================] - 0s 224us/step - loss: -476814.6922 - accuracy: 0.0000e+00\n",
      "Epoch 39/100\n",
      "361/361 [==============================] - 0s 219us/step - loss: -485748.3135 - accuracy: 0.0000e+00\n",
      "Epoch 40/100\n",
      "361/361 [==============================] - 0s 239us/step - loss: -494887.8337 - accuracy: 0.0000e+00\n",
      "Epoch 41/100\n",
      "361/361 [==============================] - 0s 232us/step - loss: -504029.8249 - accuracy: 0.0000e+00\n",
      "Epoch 42/100\n",
      "361/361 [==============================] - 0s 215us/step - loss: -513987.3437 - accuracy: 0.0000e+00\n",
      "Epoch 43/100\n",
      "361/361 [==============================] - 0s 231us/step - loss: -522995.2328 - accuracy: 0.0000e+00\n",
      "Epoch 44/100\n",
      "361/361 [==============================] - 0s 221us/step - loss: -533451.8821 - accuracy: 0.0000e+00\n",
      "Epoch 45/100\n",
      "361/361 [==============================] - 0s 210us/step - loss: -542016.0083 - accuracy: 0.0000e+00\n",
      "Epoch 46/100\n",
      "361/361 [==============================] - 0s 188us/step - loss: -553507.6315 - accuracy: 0.0000e+00\n",
      "Epoch 47/100\n",
      "361/361 [==============================] - 0s 241us/step - loss: -563699.4815 - accuracy: 0.0000e+00\n",
      "Epoch 48/100\n",
      "361/361 [==============================] - 0s 193us/step - loss: -573953.1888 - accuracy: 0.0000e+00\n",
      "Epoch 49/100\n",
      "361/361 [==============================] - 0s 166us/step - loss: -584793.7839 - accuracy: 0.0000e+00\n",
      "Epoch 50/100\n",
      "361/361 [==============================] - 0s 206us/step - loss: -595347.7994 - accuracy: 0.0000e+00\n",
      "Epoch 51/100\n",
      "361/361 [==============================] - 0s 228us/step - loss: -605645.2010 - accuracy: 0.0000e+00\n",
      "Epoch 52/100\n",
      "361/361 [==============================] - 0s 240us/step - loss: -617297.4533 - accuracy: 0.0000e+00\n",
      "Epoch 53/100\n",
      "361/361 [==============================] - 0s 191us/step - loss: -628238.4680 - accuracy: 0.0000e+00\n",
      "Epoch 54/100\n",
      "361/361 [==============================] - 0s 200us/step - loss: -639442.0167 - accuracy: 0.0000e+00\n",
      "Epoch 55/100\n",
      "361/361 [==============================] - 0s 209us/step - loss: -651290.5215 - accuracy: 0.0000e+00\n",
      "Epoch 56/100\n",
      "361/361 [==============================] - 0s 276us/step - loss: -662799.6251 - accuracy: 0.0000e+00\n",
      "Epoch 57/100\n",
      "361/361 [==============================] - 0s 234us/step - loss: -674306.7570 - accuracy: 0.0000e+00\n",
      "Epoch 58/100\n",
      "361/361 [==============================] - 0s 255us/step - loss: -686193.4714 - accuracy: 0.0000e+00\n",
      "Epoch 59/100\n",
      "361/361 [==============================] - 0s 229us/step - loss: -698329.2785 - accuracy: 0.0000e+00\n",
      "Epoch 60/100\n",
      "361/361 [==============================] - 0s 231us/step - loss: -710105.3530 - accuracy: 0.0000e+00\n",
      "Epoch 61/100\n",
      "361/361 [==============================] - 0s 217us/step - loss: -723112.1617 - accuracy: 0.0000e+00\n",
      "Epoch 62/100\n",
      "361/361 [==============================] - 0s 233us/step - loss: -734277.0615 - accuracy: 0.0000e+00\n",
      "Epoch 63/100\n",
      "361/361 [==============================] - 0s 247us/step - loss: -747539.7791 - accuracy: 0.0000e+00\n",
      "Epoch 64/100\n",
      "361/361 [==============================] - 0s 185us/step - loss: -760309.7398 - accuracy: 0.0000e+00\n",
      "Epoch 65/100\n",
      "361/361 [==============================] - 0s 194us/step - loss: -773389.2937 - accuracy: 0.0000e+00\n",
      "Epoch 66/100\n",
      "361/361 [==============================] - 0s 220us/step - loss: -785921.6098 - accuracy: 0.0000e+00\n",
      "Epoch 67/100\n",
      "361/361 [==============================] - 0s 218us/step - loss: -798342.9195 - accuracy: 0.0000e+00\n",
      "Epoch 68/100\n",
      "361/361 [==============================] - 0s 213us/step - loss: -811981.1339 - accuracy: 0.0000e+00\n",
      "Epoch 69/100\n",
      "361/361 [==============================] - 0s 234us/step - loss: -826659.3085 - accuracy: 0.0000e+00\n",
      "Epoch 70/100\n",
      "361/361 [==============================] - 0s 233us/step - loss: -840358.0515 - accuracy: 0.0000e+00\n",
      "Epoch 71/100\n",
      "361/361 [==============================] - 0s 208us/step - loss: -854293.4360 - accuracy: 0.0000e+00\n",
      "Epoch 72/100\n",
      "361/361 [==============================] - 0s 205us/step - loss: -868153.0990 - accuracy: 0.0000e+00\n"
     ]
    },
    {
     "name": "stdout",
     "output_type": "stream",
     "text": [
      "Epoch 73/100\n",
      "361/361 [==============================] - 0s 218us/step - loss: -881985.2405 - accuracy: 0.0000e+00\n",
      "Epoch 74/100\n",
      "361/361 [==============================] - 0s 209us/step - loss: -897151.4867 - accuracy: 0.0000e+00\n",
      "Epoch 75/100\n",
      "361/361 [==============================] - 0s 224us/step - loss: -910394.0758 - accuracy: 0.0000e+00\n",
      "Epoch 76/100\n",
      "361/361 [==============================] - 0s 277us/step - loss: -925766.0655 - accuracy: 0.0000e+00\n",
      "Epoch 77/100\n",
      "361/361 [==============================] - 0s 223us/step - loss: -940445.0096 - accuracy: 0.0000e+00\n",
      "Epoch 78/100\n",
      "361/361 [==============================] - 0s 259us/step - loss: -954517.9092 - accuracy: 0.0000e+00\n",
      "Epoch 79/100\n",
      "361/361 [==============================] - 0s 244us/step - loss: -971084.3056 - accuracy: 0.0000e+00\n",
      "Epoch 80/100\n",
      "361/361 [==============================] - 0s 243us/step - loss: -984541.5451 - accuracy: 0.0000e+00\n",
      "Epoch 81/100\n",
      "361/361 [==============================] - 0s 235us/step - loss: -1001753.3176 - accuracy: 0.0000e+00\n",
      "Epoch 82/100\n",
      "361/361 [==============================] - 0s 220us/step - loss: -1017429.4769 - accuracy: 0.0000e+00\n",
      "Epoch 83/100\n",
      "361/361 [==============================] - 0s 225us/step - loss: -1033091.7248 - accuracy: 0.0000e+00\n",
      "Epoch 84/100\n",
      "361/361 [==============================] - 0s 208us/step - loss: -1049150.2234 - accuracy: 0.0000e+00\n",
      "Epoch 85/100\n",
      "361/361 [==============================] - 0s 206us/step - loss: -1066036.9222 - accuracy: 0.0000e+00\n",
      "Epoch 86/100\n",
      "361/361 [==============================] - 0s 220us/step - loss: -1082777.9418 - accuracy: 0.0000e+00\n",
      "Epoch 87/100\n",
      "361/361 [==============================] - 0s 220us/step - loss: -1098506.9984 - accuracy: 0.0000e+00\n",
      "Epoch 88/100\n",
      "361/361 [==============================] - 0s 213us/step - loss: -1115268.0061 - accuracy: 0.0000e+00\n",
      "Epoch 89/100\n",
      "361/361 [==============================] - 0s 204us/step - loss: -1131751.1300 - accuracy: 0.0000e+00\n",
      "Epoch 90/100\n",
      "361/361 [==============================] - 0s 219us/step - loss: -1147975.6214 - accuracy: 0.0000e+00\n",
      "Epoch 91/100\n",
      "361/361 [==============================] - 0s 226us/step - loss: -1165221.1098 - accuracy: 0.0000e+00\n",
      "Epoch 92/100\n",
      "361/361 [==============================] - 0s 226us/step - loss: -1180211.3002 - accuracy: 0.0000e+00\n",
      "Epoch 93/100\n",
      "361/361 [==============================] - 0s 210us/step - loss: -1198985.2132 - accuracy: 0.0000e+00\n",
      "Epoch 94/100\n",
      "361/361 [==============================] - 0s 220us/step - loss: -1215509.0008 - accuracy: 0.0000e+00\n",
      "Epoch 95/100\n",
      "361/361 [==============================] - 0s 212us/step - loss: -1232981.5715 - accuracy: 0.0000e+00\n",
      "Epoch 96/100\n",
      "361/361 [==============================] - 0s 218us/step - loss: -1251057.9098 - accuracy: 0.0000e+00\n",
      "Epoch 97/100\n",
      "361/361 [==============================] - 0s 218us/step - loss: -1268147.3533 - accuracy: 0.0000e+00\n",
      "Epoch 98/100\n",
      "361/361 [==============================] - 0s 218us/step - loss: -1287131.7774 - accuracy: 0.0000e+00\n",
      "Epoch 99/100\n",
      "361/361 [==============================] - 0s 229us/step - loss: -1304206.7303 - accuracy: 0.0000e+00\n",
      "Epoch 100/100\n",
      "361/361 [==============================] - 0s 228us/step - loss: -1321831.6286 - accuracy: 0.0000e+00\n"
     ]
    },
    {
     "data": {
      "text/plain": [
       "<keras.callbacks.callbacks.History at 0x1ee243cfa08>"
      ]
     },
     "execution_count": 40,
     "metadata": {},
     "output_type": "execute_result"
    }
   ],
   "source": [
    "classifier.compile(optimizer = 'adam', loss = 'binary_crossentropy', metrics = ['accuracy'])\n",
    "\n",
    "classifier.fit(train_data, train_targets, batch_size = 10, epochs = 100)\n"
   ]
  },
  {
   "cell_type": "code",
   "execution_count": 41,
   "metadata": {},
   "outputs": [],
   "source": [
    "#getting predictions of test data\n",
    "prediction = classifier.predict(test_data).tolist()\n",
    "# list to series\n",
    "se = pd.Series(prediction)\n",
    "# creating new column of predictions in data_check dataframe\n",
    "final = pd.DataFrame()\n",
    "final['check'] = se\n",
    "final['check'] = final['check'].str.get(0)"
   ]
  },
  {
   "cell_type": "code",
   "execution_count": 42,
   "metadata": {},
   "outputs": [
    {
     "name": "stdout",
     "output_type": "stream",
     "text": [
      "0 156\n",
      "Percent correctly classified: 0.0\n"
     ]
    }
   ],
   "source": [
    "#getting predictions of test data\n",
    "prediction = classifier.predict(test_data).tolist()\n",
    "# list to series\n",
    "se = pd.Series(prediction)\n",
    "# creating new column of predictions in data_check dataframe\n",
    "final = pd.DataFrame()\n",
    "final['check'] = se\n",
    "final['check'] = final['check'].str.get(0)\n",
    "\n",
    "series = []\n",
    "for val in final['check']:\n",
    "    if val >= 0.5:\n",
    "        series.append(1)\n",
    "    else:\n",
    "        series.append(0)\n",
    "        \n",
    "match = 0\n",
    "nomatch = 0\n",
    "i = 0\n",
    "for true in test_targets:\n",
    "    if true == series[i]:\n",
    "        match = match + 1\n",
    "    else:\n",
    "        nomatch = nomatch + 1\n",
    "    i += 1\n",
    "\n",
    "print(match, nomatch)\n",
    "print(\"Percent correctly classified:\", 100 * round(match / 171, 2))"
   ]
  },
  {
   "cell_type": "code",
   "execution_count": null,
   "metadata": {},
   "outputs": [],
   "source": []
  },
  {
   "cell_type": "code",
   "execution_count": null,
   "metadata": {},
   "outputs": [],
   "source": [
    "#################################################################\n",
    "# DATASET #1\n",
    "# Breast Cancer Tumor Analysis\n",
    "#################################################################"
   ]
  },
  {
   "cell_type": "code",
   "execution_count": null,
   "metadata": {},
   "outputs": [],
   "source": [
    "#################################################################\n",
    "# DATASET #1\n",
    "# Breast Cancer Tumor Analysis\n",
    "#################################################################"
   ]
  },
  {
   "cell_type": "code",
   "execution_count": null,
   "metadata": {},
   "outputs": [],
   "source": [
    "#################################################################\n",
    "# DATASET #1\n",
    "# Breast Cancer Tumor Analysis\n",
    "#################################################################"
   ]
  }
 ],
 "metadata": {
  "kernelspec": {
   "display_name": "Python 3",
   "language": "python",
   "name": "python3"
  },
  "language_info": {
   "codemirror_mode": {
    "name": "ipython",
    "version": 3
   },
   "file_extension": ".py",
   "mimetype": "text/x-python",
   "name": "python",
   "nbconvert_exporter": "python",
   "pygments_lexer": "ipython3",
   "version": "3.6.9"
  }
 },
 "nbformat": 4,
 "nbformat_minor": 2
}
