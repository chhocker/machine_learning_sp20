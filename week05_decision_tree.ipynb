{
 "cells": [
  {
   "cell_type": "code",
   "execution_count": 1,
   "metadata": {},
   "outputs": [],
   "source": [
    "import os\n",
    "os.chdir(\"/Users/Clair/machine_learning_sp20\")"
   ]
  },
  {
   "cell_type": "code",
   "execution_count": 2,
   "metadata": {},
   "outputs": [],
   "source": [
    "from sklearn import tree\n",
    "from sklearn.model_selection import train_test_split\n",
    "import pandas as pd\n",
    "import matplotlib.pyplot as plt\n",
    "import graphviz \n",
    "import pydotplus"
   ]
  },
  {
   "cell_type": "code",
   "execution_count": 3,
   "metadata": {},
   "outputs": [],
   "source": [
    "#################################################################\n",
    "# DATASET -- TIC-TAC-TOE\n",
    "# Classification\n",
    "# \n",
    "##################################################################\n",
    "ttt_columns = [\"top_left_square\", \"top_middle_square\", \"top_right_square\", \"middle_left_square\", \"middle_middle_square\",\n",
    "                 \"middle_right_square\", \"bottom_left_square\", \"bottom_middle_square\",\"bottom_right_square\", \"winner\"]\n",
    "ttt_data = pd.read_csv(\"tic-tac-toe.data\", delimiter=\",\", names=ttt_columns, header=None)\n",
    "\n",
    "\n",
    "ttt_data[\"top_left_square\"] = ttt_data.top_left_square.map({\"o\": 0, \"x\": 1, \"b\": 3})\n",
    "ttt_data[\"top_middle_square\"] = ttt_data.top_middle_square.map({\"o\": 0, \"x\": 1, \"b\": 3})\n",
    "ttt_data[\"top_right_square\"] = ttt_data.top_right_square.map({\"o\": 0, \"x\": 1, \"b\": 3})\n",
    "\n",
    "ttt_data[\"middle_left_square\"] = ttt_data.middle_left_square.map({\"o\": 0, \"x\": 1, \"b\": 3})\n",
    "ttt_data[\"middle_middle_square\"] = ttt_data.middle_middle_square.map({\"o\": 0, \"x\": 1, \"b\": 3})\n",
    "ttt_data[\"middle_right_square\"] = ttt_data.middle_right_square.map({\"o\": 0, \"x\": 1, \"b\": 3})\n",
    "\n",
    "ttt_data[\"bottom_left_square\"] = ttt_data.bottom_left_square.map({\"o\": 0, \"x\": 1, \"b\": 3})\n",
    "ttt_data[\"bottom_middle_square\"] = ttt_data.bottom_middle_square.map({\"o\": 0, \"x\": 1, \"b\": 3})\n",
    "ttt_data[\"bottom_right_square\"] = ttt_data.bottom_right_square.map({\"o\": 0, \"x\": 1, \"b\": 3})\n",
    "\n",
    "ttt_data[\"winner\"] = ttt_data.winner.map({\"positive\": 1, \"negative\": 0})\n",
    "ttt_data[\"x_wins\"] = ttt_data[\"winner\"]\n",
    "\n",
    "ttt_targets = ttt_data[\"x_wins\"]\n",
    "ttt_data = ttt_data.drop(columns=[\"winner\", \"x_wins\"])\n"
   ]
  },
  {
   "cell_type": "code",
   "execution_count": 4,
   "metadata": {},
   "outputs": [],
   "source": [
    "train_data, test_data, train_targets, test_targets = train_test_split(ttt_data, ttt_targets, test_size = 0.3, shuffle = True)"
   ]
  },
  {
   "cell_type": "code",
   "execution_count": 5,
   "metadata": {},
   "outputs": [
    {
     "name": "stdout",
     "output_type": "stream",
     "text": [
      "Accuracy:  92.01 %\n"
     ]
    }
   ],
   "source": [
    "# TREE #1\n",
    "clf = tree.DecisionTreeClassifier(random_state=0, criterion=\"entropy\")\n",
    "clf.fit(train_data, train_targets)\n",
    "\n",
    "\n",
    "print(\"Accuracy: \", round(clf.score(test_data, test_targets) * 100, 2), \"%\")"
   ]
  },
  {
   "cell_type": "code",
   "execution_count": 6,
   "metadata": {},
   "outputs": [
    {
     "data": {
      "text/plain": [
       "True"
      ]
     },
     "execution_count": 6,
     "metadata": {},
     "output_type": "execute_result"
    }
   ],
   "source": [
    "dot_data = tree.export_graphviz(clf, out_file=None, filled=True, rounded=True, special_characters=True) \n",
    "graph = graphviz.Source(dot_data) \n",
    "graph\n",
    "pydot_graph = pydotplus.graph_from_dot_data(dot_data)\n",
    "pydot_graph.write_png('ttt_smaller_tree.png')"
   ]
  },
  {
   "cell_type": "code",
   "execution_count": 7,
   "metadata": {},
   "outputs": [],
   "source": [
    "#################################################################\n",
    "# DATASET -- CONTACT LENS\n",
    "# Classification\n",
    "# Number of Instances: 24\n",
    "##################################################################\n",
    "lens_cols = [\"index\",\"age\", \"prescript\", \"astigm\", \"tear_rate\", \"lens\"]\n",
    "lens_data = pd.read_csv(\"lenses.data\", delimiter=\"\\s+\", names=lens_cols, header=None, na_values=[\"?\"])\n",
    "\n",
    "lens_targs = lens_data[\"lens\"]\n",
    "lens_data = lens_data.drop(columns=[\"lens\", \"index\"])"
   ]
  },
  {
   "cell_type": "code",
   "execution_count": 8,
   "metadata": {},
   "outputs": [],
   "source": [
    "train_data, test_data, train_targets, test_targets = train_test_split(lens_data, lens_targs, test_size = 0.3, shuffle = True)"
   ]
  },
  {
   "cell_type": "code",
   "execution_count": 9,
   "metadata": {},
   "outputs": [
    {
     "name": "stdout",
     "output_type": "stream",
     "text": [
      "Accuracy:  75.0 %\n"
     ]
    }
   ],
   "source": [
    "# TREE #2\n",
    "clf = tree.DecisionTreeClassifier(random_state=0, criterion=\"entropy\")\n",
    "clf.fit(train_data, train_targets)\n",
    "\n",
    "print(\"Accuracy: \", round(clf.score(test_data, test_targets) * 100, 2), \"%\")"
   ]
  },
  {
   "cell_type": "code",
   "execution_count": 10,
   "metadata": {},
   "outputs": [
    {
     "data": {
      "text/plain": [
       "True"
      ]
     },
     "execution_count": 10,
     "metadata": {},
     "output_type": "execute_result"
    }
   ],
   "source": [
    "dot_data = tree.export_graphviz(clf, out_file=None, filled=True, rounded=True, special_characters=True) \n",
    "graph = graphviz.Source(dot_data) \n",
    "graph\n",
    "pydot_graph = pydotplus.graph_from_dot_data(dot_data)\n",
    "pydot_graph.write_png('lens.png')"
   ]
  },
  {
   "cell_type": "code",
   "execution_count": 11,
   "metadata": {},
   "outputs": [],
   "source": [
    "#################################################################\n",
    "# DATASET -- MILES PER GALLON DATA\n",
    "# REGRESSION\n",
    "# \n",
    "##################################################################\n",
    "mpg_columns = [\"mpg\", \"cylinders\", \"displacement\",\"horsepower\", \"weight\", \"acceleration\", \"model_year\",\"origin\", \"car_name\"]\n",
    "mpg_data = pd.read_csv(\"auto-mpg.data\", sep=\"\\s+\", names=mpg_columns, na_values=[\"?\"])\n"
   ]
  },
  {
   "cell_type": "code",
   "execution_count": 12,
   "metadata": {},
   "outputs": [],
   "source": [
    "#Set the targets\n",
    "mpg_target = mpg_data[\"mpg\"]\n",
    "\n",
    "#Get rid of the target and the unneeded columns\n",
    "mpg_data = mpg_data.drop(columns=[\"mpg\", \"car_name\"])"
   ]
  },
  {
   "cell_type": "code",
   "execution_count": 13,
   "metadata": {},
   "outputs": [],
   "source": [
    "# Replace missing horsepower values with the mean horsepower\n",
    "mpg_data[mpg_data.isna().any(axis=1)] # shows records with NA's\n",
    "mpg_data.horsepower = mpg_data.horsepower.fillna(mpg_data[\"horsepower\"].mean())\n",
    "train_data, test_data, train_targets, test_targets = train_test_split(mpg_data, mpg_target, test_size = 0.3, shuffle = True)\n"
   ]
  },
  {
   "cell_type": "code",
   "execution_count": 14,
   "metadata": {},
   "outputs": [
    {
     "name": "stdout",
     "output_type": "stream",
     "text": [
      "Accuracy:  75.61 %\n"
     ]
    },
    {
     "data": {
      "text/plain": [
       "True"
      ]
     },
     "execution_count": 14,
     "metadata": {},
     "output_type": "execute_result"
    }
   ],
   "source": [
    "clf = tree.DecisionTreeRegressor(random_state=0, max_depth=9)\n",
    "clf.fit(train_data, train_targets)\n",
    "\n",
    "print(\"Accuracy: \", round(clf.score(test_data, test_targets) * 100, 2), \"%\")\n",
    "\n",
    "dot_data = tree.export_graphviz(clf, out_file=None, filled=True, rounded=True, special_characters=True) \n",
    "graph = graphviz.Source(dot_data) \n",
    "graph\n",
    "pydot_graph = pydotplus.graph_from_dot_data(dot_data)\n",
    "pydot_graph.write_png('mpg_mean_hp.png')"
   ]
  },
  {
   "cell_type": "code",
   "execution_count": 15,
   "metadata": {},
   "outputs": [],
   "source": [
    "mpg_columns = [\"mpg\", \"cylinders\", \"displacement\",\"horsepower\", \"weight\", \"acceleration\", \"model_year\",\"origin\", \"car_name\"]\n",
    "data_rmv_na = pd.read_csv(\"auto-mpg.data\", sep=\"\\s+\", names=mpg_columns, na_values=[\"?\"])\n",
    "\n",
    "data_rmv_na = data_rmv_na.drop(columns=[\"car_name\"])\n",
    "\n",
    "data_rmv_na = data_rmv_na.apply(pd.to_numeric, errors='coerce')\n",
    "data_rmv_na = data_rmv_na.dropna()\n",
    "\n",
    "\n",
    "mpg_target = data_rmv_na[\"mpg\"].copy()\n",
    "\n",
    "data_rmv_na = data_rmv_na.drop(columns=[\"mpg\"])"
   ]
  },
  {
   "cell_type": "code",
   "execution_count": 16,
   "metadata": {},
   "outputs": [],
   "source": [
    "train_data, test_data, train_targets, test_targets = train_test_split(data_rmv_na, mpg_target, test_size = 0.3, shuffle = True)"
   ]
  },
  {
   "cell_type": "code",
   "execution_count": 17,
   "metadata": {},
   "outputs": [
    {
     "name": "stdout",
     "output_type": "stream",
     "text": [
      "Accuracy:  77.62 %\n"
     ]
    }
   ],
   "source": [
    "clf = tree.DecisionTreeRegressor(random_state=0, max_depth=8)\n",
    "clf.fit(train_data, train_targets)\n",
    "\n",
    "print(\"Accuracy: \", round(clf.score(test_data, test_targets) * 100, 2), \"%\")"
   ]
  },
  {
   "cell_type": "code",
   "execution_count": 18,
   "metadata": {},
   "outputs": [
    {
     "data": {
      "text/plain": [
       "True"
      ]
     },
     "execution_count": 18,
     "metadata": {},
     "output_type": "execute_result"
    }
   ],
   "source": [
    "dot_data = tree.export_graphviz(clf, out_file=None, filled=True, rounded=True, special_characters=True) \n",
    "graph = graphviz.Source(dot_data) \n",
    "graph\n",
    "pydot_graph = pydotplus.graph_from_dot_data(dot_data)\n",
    "pydot_graph.write_png('mpg_drop.png')"
   ]
  }
 ],
 "metadata": {
  "kernelspec": {
   "display_name": "Python 3",
   "language": "python",
   "name": "python3"
  },
  "language_info": {
   "codemirror_mode": {
    "name": "ipython",
    "version": 3
   },
   "file_extension": ".py",
   "mimetype": "text/x-python",
   "name": "python",
   "nbconvert_exporter": "python",
   "pygments_lexer": "ipython3",
   "version": "3.6.9"
  }
 },
 "nbformat": 4,
 "nbformat_minor": 2
}
