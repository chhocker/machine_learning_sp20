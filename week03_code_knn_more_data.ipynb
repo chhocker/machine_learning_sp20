{
 "cells": [
  {
   "cell_type": "code",
   "execution_count": 25,
   "metadata": {},
   "outputs": [],
   "source": [
    "# Change directory to be where my code/data is\n",
    "import os\n",
    "os.chdir(\"/Users/Clair/machine_learning_sp20\")"
   ]
  },
  {
   "cell_type": "code",
   "execution_count": 26,
   "metadata": {},
   "outputs": [],
   "source": [
    "from sklearn.neighbors import KNeighborsClassifier\n",
    "from sklearn.neighbors import KNeighborsRegressor\n",
    "from sklearn.model_selection import train_test_split\n",
    "from sklearn.metrics import accuracy_score\n",
    "import statistics as stats\n",
    "import numpy as np\n",
    "import pandas as pd"
   ]
  },
  {
   "cell_type": "code",
   "execution_count": 258,
   "metadata": {},
   "outputs": [],
   "source": [
    "####################################################"
   ]
  },
  {
   "cell_type": "code",
   "execution_count": 27,
   "metadata": {},
   "outputs": [],
   "source": [
    "#####################################################\n",
    "# CAR EVALUATION--CLASSIFICATION\n",
    "# TARGET: classify the car as acceptable, unacceptable, good, or very good. (last column)\n",
    "#####################################################\n",
    "car_columns = [\"buying\", \"maint\", \"doors\", \"persons\", \"lug_boot\", \"safety\", \"condition\"]\n",
    "car_data = pd.read_csv(\"car.data\", delimiter=\",\", names=car_columns, header=None)\n"
   ]
  },
  {
   "cell_type": "code",
   "execution_count": 28,
   "metadata": {},
   "outputs": [],
   "source": [
    "# Label or one-hot encode the data\n",
    "car_data.buying.value_counts()\n",
    "car_data.buying = car_data.buying.astype('category')\n",
    "car_data[\"buying_cat\"]= car_data.buying.cat.codes\n",
    "\n",
    "car_data.maint.value_counts()\n",
    "car_data.maint = car_data.maint.astype('category')\n",
    "car_data[\"maint_cat\"]= car_data.maint.cat.codes\n",
    "\n",
    "car_data = pd.get_dummies(car_data, columns=[\"doors\"])\n",
    "car_data = pd.get_dummies(car_data, columns=[\"persons\"])\n",
    "\n",
    "car_data.lug_boot.value_counts()\n",
    "car_data.lug_boot = car_data.lug_boot.astype('category')\n",
    "car_data[\"lug_boot_cat\"]= car_data.lug_boot.cat.codes\n",
    "\n",
    "car_data = pd.get_dummies(car_data, columns=[\"safety\"])\n",
    "\n",
    "car_data.condition.value_counts()\n",
    "car_data.condition = car_data.condition.astype('category')\n",
    "car_data[\"cond_cat\"]= car_data.condition.cat.codes"
   ]
  },
  {
   "cell_type": "code",
   "execution_count": 29,
   "metadata": {},
   "outputs": [],
   "source": [
    "car_targets = car_data[\"condition\"]\n",
    "car_data = car_data.drop(columns=[\"buying\", \"maint\", \"lug_boot\", \"condition\"])"
   ]
  },
  {
   "cell_type": "code",
   "execution_count": 30,
   "metadata": {},
   "outputs": [],
   "source": [
    "train_data, test_data, train_targets, test_targets = train_test_split(car_data, car_targets, test_size = 0.3, shuffle = True)"
   ]
  },
  {
   "cell_type": "code",
   "execution_count": 31,
   "metadata": {},
   "outputs": [
    {
     "name": "stdout",
     "output_type": "stream",
     "text": [
      "The classification classifier for the CAR DATA achieved 100.0% accuracy)\n"
     ]
    }
   ],
   "source": [
    "# Create the classifier\n",
    "classifier = KNeighborsClassifier(n_neighbors=5)\n",
    "\n",
    "# Train the classifier\n",
    "classifier.fit(train_data, train_targets)\n",
    "\n",
    "# Make predictions on the test data\n",
    "predictions = classifier.predict(test_data)\n",
    "\n",
    "# Compute and print the accuracy\n",
    "accuracy = accuracy_score(test_targets, predictions)\n",
    "print(\"The classification classifier for the CAR DATA achieved {}% accuracy)\".format(round(100 * accuracy), 4))\n"
   ]
  },
  {
   "cell_type": "code",
   "execution_count": null,
   "metadata": {},
   "outputs": [],
   "source": [
    "\n",
    "  "
   ]
  },
  {
   "cell_type": "code",
   "execution_count": null,
   "metadata": {},
   "outputs": [],
   "source": []
  },
  {
   "cell_type": "code",
   "execution_count": 282,
   "metadata": {},
   "outputs": [],
   "source": [
    "##################################################################"
   ]
  },
  {
   "cell_type": "code",
   "execution_count": 32,
   "metadata": {},
   "outputs": [],
   "source": [
    "##################################################################\n",
    "# AUTOMOBILE MPG--REGRESSION\n",
    "# TARGET: the MPG column (first column)\n",
    "##################################################################\n",
    "mpg_columns = [\"mpg\", \"cylinders\", \"displacement\",\"horsepower\", \"weight\", \"acceleration\", \"model year\",\"origin\", \"car name\"]\n",
    "mpg_data = pd.read_csv(\"auto-mpg.data\", sep=\"\\s+\", names=mpg_columns, na_values=[\"?\"])"
   ]
  },
  {
   "cell_type": "code",
   "execution_count": 33,
   "metadata": {
    "scrolled": true
   },
   "outputs": [],
   "source": [
    "#Set the targets\n",
    "mpg_target = mpg_data[\"mpg\"]\n",
    "\n",
    "#Get rid of the target and the unneeded columns\n",
    "data = mpg_data.drop(columns=[\"mpg\"])\n",
    "data = mpg_data.drop(columns=[\"car name\"])"
   ]
  },
  {
   "cell_type": "code",
   "execution_count": null,
   "metadata": {},
   "outputs": [],
   "source": []
  },
  {
   "cell_type": "code",
   "execution_count": 34,
   "metadata": {},
   "outputs": [],
   "source": [
    "# Replace missing horsepower values with the mean horsepower\n",
    "data[data.isna().any(axis=1)] # shows records with NA's\n",
    "data.horsepower = data.horsepower.fillna(data[\"horsepower\"].mean())"
   ]
  },
  {
   "cell_type": "code",
   "execution_count": 35,
   "metadata": {},
   "outputs": [],
   "source": [
    "# Get the sets!\n",
    "train_data, test_data, train_targets, test_targets = train_test_split(data, mpg_target, test_size = 0.3, shuffle = True)"
   ]
  },
  {
   "cell_type": "code",
   "execution_count": 36,
   "metadata": {},
   "outputs": [
    {
     "name": "stdout",
     "output_type": "stream",
     "text": [
      "The regression classifier for the MPG data achieved 71.66 % accuracy\n"
     ]
    }
   ],
   "source": [
    "# Train and report!\n",
    "regr = KNeighborsRegressor(n_neighbors=5)\n",
    "regr.fit(train_data, train_targets)\n",
    "print(\"The regression classifier for the MPG data achieved\", 100 * round(regr.score(test_data, test_targets), 4), \"% accuracy\")\n"
   ]
  },
  {
   "cell_type": "code",
   "execution_count": null,
   "metadata": {},
   "outputs": [],
   "source": [
    "##################################################################"
   ]
  },
  {
   "cell_type": "code",
   "execution_count": 37,
   "metadata": {},
   "outputs": [],
   "source": [
    "##################################################################\n",
    "# STUDENT PERFORMANCE--REGRESSION\n",
    "# TARGET: the final grade. (last column--G3)\n",
    "##################################################################\n",
    "student_data = pd.read_csv(\"student-mat.csv\", sep=\";\")"
   ]
  },
  {
   "cell_type": "code",
   "execution_count": 38,
   "metadata": {},
   "outputs": [],
   "source": [
    "# Change the data types to be one-hot encoded or T/F columns\n",
    "student_data[\"isMale\"] = student_data.sex.map({\"M\": 1, \"F\": 0})\n",
    "\n",
    "student_data[\"hasInternet\"] = student_data.internet.map({\"yes\": 1, \"no\": 0})\n",
    "\n",
    "student_data[\"famSizeGT3\"] = student_data.famsize.map({\"GT3\": 1, \"LE3\": 0})\n",
    "\n",
    "student_data[\"hasFamSup\"] = student_data.famsup.map({\"yes\": 1, \"no\": 0})\n",
    "\n",
    "student_data[\"hasSchoolSup\"] = student_data.schoolsup.map({\"yes\": 1, \"no\": 0})\n",
    "\n",
    "student_data[\"hasRomance\"] = student_data.romantic.map({\"yes\": 1, \"no\": 0})\n",
    "\n",
    "student_data[\"isPaid\"] = student_data.paid.map({\"yes\": 1, \"no\": 0})\n",
    "\n",
    "student_data[\"hasActivities\"] = student_data.activities.map({\"yes\": 1, \"no\": 0})\n",
    "\n",
    "student_data[\"hadNursery\"] = student_data.nursery.map({\"yes\": 1, \"no\": 0})\n",
    "\n",
    "student_data[\"hasHigher\"] = student_data.higher.map({\"yes\": 1, \"no\": 0})\n",
    "\n",
    "student_data[\"addressType\"] = student_data.address.map({\"U\": 1, \"R\": 0})\n",
    "\n",
    "student_data[\"pStatus\"] = student_data.Pstatus.map({\"T\": 1, \"A\": 0})\n",
    "\n",
    "student_data[\"isGPstudent\"] = student_data.school.map({\"GP\": 1, \"MS\": 0})\n",
    "\n",
    "#Guardian type\n",
    "student_data.guardian.value_counts()\n",
    "student_data.guardian = student_data.guardian.astype('category')\n",
    "student_data[\"guardian_cat\"]= student_data.guardian.cat.codes\n",
    "\n",
    "#Mother job\n",
    "student_data.Mjob.value_counts()\n",
    "student_data.Mjob = student_data.Mjob.astype('category')\n",
    "student_data[\"mJob_cat\"]= student_data.Mjob.cat.codes\n",
    "\n",
    "#Mother job\n",
    "student_data.Fjob.value_counts()\n",
    "student_data.Fjob = student_data.Fjob.astype('category')\n",
    "student_data[\"fJob_cat\"]= student_data.Fjob.cat.codes\n",
    "\n",
    "#Mother job\n",
    "student_data.reason.value_counts()\n",
    "student_data.reason = student_data.reason.astype('category')\n",
    "student_data[\"reason_cat\"]= student_data.reason.cat.codes\n",
    "\n",
    "grade_targets = student_data[\"G3\"]\n",
    "\n",
    "student_data = student_data.drop(columns=[\"school\", \"sex\", \"address\", \"famsize\", \"Pstatus\", \n",
    "                                          \"Mjob\", \"Fjob\", \"reason\", \"guardian\", \"schoolsup\", \n",
    "                                          \"famsup\", \"paid\", \"higher\", \"internet\", \"romantic\", \n",
    "                                          \"activities\", \"nursery\", \"G3\"])\n"
   ]
  },
  {
   "cell_type": "code",
   "execution_count": 39,
   "metadata": {},
   "outputs": [],
   "source": [
    "# Split up the data\n",
    "train_data, test_data, train_targets, test_targets = train_test_split(student_data, grade_targets, test_size = 0.3, shuffle = True)"
   ]
  },
  {
   "cell_type": "code",
   "execution_count": 42,
   "metadata": {},
   "outputs": [
    {
     "name": "stdout",
     "output_type": "stream",
     "text": [
      "The regression classifier for the GRADE PREDICTION achieved 79.3 % accuracy\n"
     ]
    }
   ],
   "source": [
    "# Using Regression\n",
    "regr = KNeighborsRegressor(n_neighbors=3)\n",
    "regr.fit(train_data, train_targets)\n",
    "print(\"The regression classifier for the GRADE PREDICTION achieved\", 100 * round(regr.score(test_data, test_targets), 3), \"% accuracy\")"
   ]
  }
 ],
 "metadata": {
  "kernelspec": {
   "display_name": "Python 3",
   "language": "python",
   "name": "python3"
  },
  "language_info": {
   "codemirror_mode": {
    "name": "ipython",
    "version": 3
   },
   "file_extension": ".py",
   "mimetype": "text/x-python",
   "name": "python",
   "nbconvert_exporter": "python",
   "pygments_lexer": "ipython3",
   "version": "3.7.4"
  }
 },
 "nbformat": 4,
 "nbformat_minor": 2
}
