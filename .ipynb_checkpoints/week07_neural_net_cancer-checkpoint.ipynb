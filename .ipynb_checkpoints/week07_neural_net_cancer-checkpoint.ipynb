{
 "cells": [
  {
   "cell_type": "code",
   "execution_count": 39,
   "metadata": {},
   "outputs": [],
   "source": [
    "import os\n",
    "os.chdir(\"/Users/Clair/machine_learning_sp20\")"
   ]
  },
  {
   "cell_type": "code",
   "execution_count": 40,
   "metadata": {},
   "outputs": [],
   "source": [
    "import numpy as np\n",
    "import pandas as pd\n",
    "import keras\n",
    "\n",
    "from sklearn.model_selection import train_test_split\n",
    "from keras.models import Sequential\n",
    "import matplotlib.pyplot as plt\n",
    "from keras.layers import Dense"
   ]
  },
  {
   "cell_type": "code",
   "execution_count": 41,
   "metadata": {},
   "outputs": [],
   "source": [
    "#################################################################\n",
    "# DATASET #1\n",
    "# Breast Cancer Tumor Analysis\n",
    "# -Classification\n",
    "#################################################################\n",
    "cancer_columns = [\"id_num\", \"diagnosis\", \"radius1\", \"texture1\", \"perimeter1\", \"area1\", \"smoothness1\", \n",
    "                  \"compactness1\", \"concavity1\", \"concave_pts1\", \"symmetry1\", \"fract_dimen1\",\n",
    "                 \"radius2\", \"texture2\", \"perimeter2\", \"area2\", \"smoothness2\", \n",
    "                  \"compactness2\", \"concavity2\", \"concave_pts2\", \"symmetry2\", \"fract_dimen2\",\n",
    "                 \"radius3\", \"texture3\", \"perimeter3\", \"area3\", \"smoothness3\", \n",
    "                  \"compactness3\", \"concavity3\", \"concave_pts3\", \"symmetry3\", \"fract_dimen3\"]\n",
    "cancer_data = pd.read_csv(\"wdbc.data\", delimiter=\",\", names=cancer_columns, header=None)"
   ]
  },
  {
   "cell_type": "code",
   "execution_count": 42,
   "metadata": {},
   "outputs": [],
   "source": [
    "cancer_data[\"is_malig\"] = cancer_data.diagnosis.map({\"M\": 1, \"B\": 0})\n",
    "\n",
    "cancer_targets = cancer_data[\"is_malig\"]\n",
    "cancer_data = cancer_data.drop(columns=[\"id_num\", \"diagnosis\", \"is_malig\"])\n",
    "\n",
    "cancer_data = cancer_data[:].values"
   ]
  },
  {
   "cell_type": "code",
   "execution_count": 54,
   "metadata": {},
   "outputs": [],
   "source": [
    "train_data, test_data, train_targets, test_targets = train_test_split(cancer_data, cancer_targets, \n",
    "                                                                      test_size = 0.3, shuffle = True)"
   ]
  },
  {
   "cell_type": "code",
   "execution_count": 93,
   "metadata": {},
   "outputs": [],
   "source": [
    "classifier = Sequential()"
   ]
  },
  {
   "cell_type": "code",
   "execution_count": 94,
   "metadata": {},
   "outputs": [],
   "source": [
    "#Input layer with 5 inputs neurons\n",
    "classifier.add(Dense(activation=\"relu\", input_dim=30, units=3, kernel_initializer=\"uniform\"))\n",
    "\n",
    "#Hidden layer\n",
    "classifier.add(Dense(activation=\"relu\", units=7, kernel_initializer=\"uniform\"))\n",
    "\n",
    "classifier.add(Dense(activation=\"relu\", units=3, kernel_initializer=\"uniform\"))\n",
    "\n",
    "\n",
    "#output layer with 1 output neuron which will predict 1 or 0\n",
    "classifier.add(Dense(activation=\"sigmoid\", units=1, kernel_initializer=\"uniform\"))"
   ]
  },
  {
   "cell_type": "code",
   "execution_count": 97,
   "metadata": {},
   "outputs": [
    {
     "name": "stdout",
     "output_type": "stream",
     "text": [
      "Train on 398 samples, validate on 171 samples\n",
      "Epoch 1/10\n",
      "398/398 [==============================] - 0s 322us/step - loss: 0.3653 - accuracy: 0.9221 - val_loss: 0.3444 - val_accuracy: 0.9006\n",
      "Epoch 2/10\n",
      "398/398 [==============================] - 0s 54us/step - loss: 0.3615 - accuracy: 0.9171 - val_loss: 0.3243 - val_accuracy: 0.9064\n",
      "Epoch 3/10\n",
      "398/398 [==============================] - 0s 65us/step - loss: 0.3441 - accuracy: 0.9121 - val_loss: 0.3190 - val_accuracy: 0.8947\n",
      "Epoch 4/10\n",
      "398/398 [==============================] - 0s 66us/step - loss: 0.3237 - accuracy: 0.9146 - val_loss: 0.3024 - val_accuracy: 0.8772\n",
      "Epoch 5/10\n",
      "398/398 [==============================] - 0s 66us/step - loss: 0.2818 - accuracy: 0.9146 - val_loss: 0.2443 - val_accuracy: 0.9006\n",
      "Epoch 6/10\n",
      "398/398 [==============================] - 0s 73us/step - loss: 0.2400 - accuracy: 0.9121 - val_loss: 0.2241 - val_accuracy: 0.9006\n",
      "Epoch 7/10\n",
      "398/398 [==============================] - 0s 70us/step - loss: 0.2271 - accuracy: 0.9196 - val_loss: 0.2264 - val_accuracy: 0.8947\n",
      "Epoch 8/10\n",
      "398/398 [==============================] - 0s 76us/step - loss: 0.2160 - accuracy: 0.9171 - val_loss: 0.2085 - val_accuracy: 0.9064\n",
      "Epoch 9/10\n",
      "398/398 [==============================] - 0s 79us/step - loss: 0.2297 - accuracy: 0.9095 - val_loss: 0.2073 - val_accuracy: 0.9181\n",
      "Epoch 10/10\n",
      "398/398 [==============================] - 0s 109us/step - loss: 0.2166 - accuracy: 0.9196 - val_loss: 0.2055 - val_accuracy: 0.9123\n"
     ]
    }
   ],
   "source": [
    "classifier.compile(optimizer = 'adam', loss = 'binary_crossentropy', metrics = ['accuracy'])\n",
    "\n",
    "ep = 10\n",
    "history = classifier.fit(train_data, train_targets,\n",
    "                    epochs=ep,\n",
    "                    validation_data=(test_data, test_targets))"
   ]
  },
  {
   "cell_type": "code",
   "execution_count": 98,
   "metadata": {},
   "outputs": [
    {
     "name": "stdout",
     "output_type": "stream",
     "text": [
      "Number of epochs: 10\n",
      "Test loss: 0.205, Test Accuracy: 0.912\n"
     ]
    }
   ],
   "source": [
    "train_acc, test_acc = classifier.evaluate(test_data, test_targets, verbose=0)\n",
    "print(\"Number of epochs:\", ep)\n",
    "print('Test loss: %.3f, Test Accuracy: %.3f' % (train_acc, test_acc))"
   ]
  }
 ],
 "metadata": {
  "kernelspec": {
   "display_name": "Python 3",
   "language": "python",
   "name": "python3"
  },
  "language_info": {
   "codemirror_mode": {
    "name": "ipython",
    "version": 3
   },
   "file_extension": ".py",
   "mimetype": "text/x-python",
   "name": "python",
   "nbconvert_exporter": "python",
   "pygments_lexer": "ipython3",
   "version": "3.6.9"
  }
 },
 "nbformat": 4,
 "nbformat_minor": 2
}
