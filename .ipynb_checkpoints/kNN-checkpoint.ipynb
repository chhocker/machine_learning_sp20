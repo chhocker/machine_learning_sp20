{
 "cells": [
  {
   "cell_type": "code",
   "execution_count": 16,
   "metadata": {},
   "outputs": [],
   "source": [
    "from sklearn import datasets\n",
    "import numpy as np\n",
    "iris = datasets.load_iris()"
   ]
  },
  {
   "cell_type": "code",
   "execution_count": 17,
   "metadata": {},
   "outputs": [],
   "source": [
    "from sklearn.model_selection import train_test_split\n",
    "\n",
    "#Split up the data and targets into train/test sets\n",
    "train_data, test_data, train_target, test_target = train_test_split(iris.data, iris.target, test_size = 0.3, shuffle = True)\n"
   ]
  },
  {
   "cell_type": "code",
   "execution_count": 18,
   "metadata": {},
   "outputs": [],
   "source": [
    "class KNNClassifier:\n",
    "    def __init__(self, k):\n",
    "        self.k = k\n",
    "        \n",
    "    def fit(self, train_data, train_targets):\n",
    "        self.train_data = train_data\n",
    "        self.train_targets = train_targets\n",
    "    \n",
    "    def get_distance(self, pointA, pointB):\n",
    "        distance = 0;\n",
    "        for x1, x2 in zip(pointA, pointB):\n",
    "            distance += (x1 - x2) ** 2\n",
    "        return np.sqrt(distance)\n",
    "    \n",
    "    def find_mode(self, targets):\n",
    "        target_counts = {}\n",
    "        # Make a map with the key being the possible target and the value\n",
    "        # being its number of occurances\n",
    "        for x in targets:\n",
    "            if x in target_counts:\n",
    "                target_counts[x] += 1\n",
    "            else:\n",
    "                target_counts[x] = 1  \n",
    "        #return the key of the target that has the most counts\n",
    "        return max(target_counts, key = lambda k: target_counts[k])\n",
    "        \n",
    "    def find_k_nearest(self, dists):\n",
    "        sorted_dist = dists.copy()\n",
    "        sorted_dist.sort()\n",
    "        k_n_indicies = []\n",
    "        \n",
    "        # use the sorted list to find the indicies of the k\n",
    "        # closest neighbors\n",
    "        for i in range(0, self.k):\n",
    "            k_n_indicies.append(dists.index(sorted_dist[i]))\n",
    "        \n",
    "        return k_n_indicies\n",
    "        \n",
    "        \n",
    "    def predict_one(self, test_datum):\n",
    "        distances = []\n",
    "        targets = []\n",
    "            \n",
    "        for i in range(len(self.train_data)): \n",
    "            # put each distance into a list\n",
    "            distances.append(self.get_distance(self.train_data[i], test_datum))         \n",
    "            \n",
    "        indices = self.find_k_nearest(distances)\n",
    "        for i in indices:\n",
    "            targets.append(self.train_targets[i])          \n",
    "        return self.find_mode(targets)\n",
    "    \n",
    "    def predict(self, test_data):\n",
    "        predictions = []\n",
    "        for test_datum in test_data:\n",
    "            prediction = self.predict_one(test_datum)\n",
    "            predictions.append(prediction)\n",
    "            \n",
    "        return predictions\n",
    "    "
   ]
  },
  {
   "cell_type": "code",
   "execution_count": 19,
   "metadata": {},
   "outputs": [
    {
     "name": "stdout",
     "output_type": "stream",
     "text": [
      "My classifier got 95.56 % correct\n"
     ]
    }
   ],
   "source": [
    "classifier = KNNClassifier(5)\n",
    "classifier.fit(train_data, train_target)\n",
    "predictions = classifier.predict(test_data)\n",
    "    \n",
    "numCorrect = 0\n",
    "for i in range(0, len(predictions)):\n",
    "    if (predictions[i] == test_target[i]):\n",
    "        numCorrect += 1\n",
    "\n",
    "print(\"My classifier got\", round(numCorrect / len(test_target) * 100, 2), \"% correct\")"
   ]
  },
  {
   "cell_type": "code",
   "execution_count": 223,
   "metadata": {
    "scrolled": true
   },
   "outputs": [
    {
     "name": "stdout",
     "output_type": "stream",
     "text": [
      "[0, 1, 1, 1, 0, 2, 1, 1, 0, 0, 0, 2, 0, 1, 0, 0, 1, 2, 0, 2, 0, 1, 1, 0, 2, 2, 0, 0, 0, 0, 0, 1, 2, 0, 0, 1, 2, 0, 1, 1, 2, 1, 0, 1, 0]\n",
      "[2 1 0 2 1 2 1 0 1 2 0 0 2 0 1 2 2 2 1 0 1 2 2 2 2 2 2 1 1 2 0 2 2 0 2 0 0\n",
      " 2 1 2 2 1 0 0 0]\n"
     ]
    }
   ],
   "source": [
    "print(predictions)\n",
    "print(test_target)"
   ]
  },
  {
   "cell_type": "code",
   "execution_count": 224,
   "metadata": {},
   "outputs": [
    {
     "name": "stdout",
     "output_type": "stream",
     "text": [
      "The sklearn classifer got 97.78 % correct\n"
     ]
    }
   ],
   "source": [
    "from sklearn.neighbors import KNeighborsClassifier\n",
    "\n",
    "classifier = KNeighborsClassifier(n_neighbors=3)\n",
    "classifier.fit(train_data, train_target)\n",
    "predictions = classifier.predict(test_data)\n",
    "\n",
    "numCorrect = 0\n",
    "for i in range(0, len(predictions)):\n",
    "    if (predictions[i] == test_target[i]):\n",
    "        numCorrect += 1\n",
    "\n",
    "print(\"The sklearn classifer got\", round(numCorrect / len(test_target) * 100, 2), \"% correct\")"
   ]
  },
  {
   "cell_type": "code",
   "execution_count": 225,
   "metadata": {},
   "outputs": [
    {
     "name": "stdout",
     "output_type": "stream",
     "text": [
      "The sklearn classifer got 97.78 % correct\n"
     ]
    }
   ],
   "source": [
    "classifier = KNeighborsClassifier(n_neighbors=3)\n",
    "classifier.fit(train_data, train_target)\n",
    "predictions = classifier.predict(test_data)\n",
    "\n",
    "numCorrect = 0\n",
    "for i in range(0, len(predictions)):\n",
    "    if (predictions[i] == test_target[i]):\n",
    "        numCorrect += 1\n",
    "\n",
    "print(\"The sklearn classifer got\", round(numCorrect / len(test_target) * 100, 2), \"% correct\")"
   ]
  },
  {
   "cell_type": "code",
   "execution_count": 226,
   "metadata": {},
   "outputs": [
    {
     "name": "stdout",
     "output_type": "stream",
     "text": [
      "The sklearn classifer got 97.78 % correct\n"
     ]
    }
   ],
   "source": [
    "classifier = KNeighborsClassifier(n_neighbors=4)\n",
    "classifier.fit(train_data, train_target)\n",
    "predictions = classifier.predict(test_data)\n",
    "\n",
    "numCorrect = 0\n",
    "for i in range(0, len(predictions)):\n",
    "    if (predictions[i] == test_target[i]):\n",
    "        numCorrect += 1\n",
    "\n",
    "print(\"The sklearn classifer got\", round(numCorrect / len(test_target) * 100, 2), \"% correct\")"
   ]
  },
  {
   "cell_type": "code",
   "execution_count": 227,
   "metadata": {},
   "outputs": [
    {
     "name": "stdout",
     "output_type": "stream",
     "text": [
      "The sklearn classifer got 97.78 % correct\n"
     ]
    }
   ],
   "source": [
    "classifier = KNeighborsClassifier(n_neighbors=5)\n",
    "classifier.fit(train_data, train_target)\n",
    "predictions = classifier.predict(test_data)\n",
    "\n",
    "numCorrect = 0\n",
    "for i in range(0, len(predictions)):\n",
    "    if (predictions[i] == test_target[i]):\n",
    "        numCorrect += 1\n",
    "\n",
    "print(\"The sklearn classifer got\", round(numCorrect / len(test_target) * 100, 2), \"% correct\")"
   ]
  }
 ],
 "metadata": {
  "kernelspec": {
   "display_name": "Python 3",
   "language": "python",
   "name": "python3"
  },
  "language_info": {
   "codemirror_mode": {
    "name": "ipython",
    "version": 3
   },
   "file_extension": ".py",
   "mimetype": "text/x-python",
   "name": "python",
   "nbconvert_exporter": "python",
   "pygments_lexer": "ipython3",
   "version": "3.7.4"
  }
 },
 "nbformat": 4,
 "nbformat_minor": 2
}
