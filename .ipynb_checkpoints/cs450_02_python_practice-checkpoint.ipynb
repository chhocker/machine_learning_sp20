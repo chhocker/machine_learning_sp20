{
 "cells": [
  {
   "cell_type": "markdown",
   "metadata": {},
   "source": [
    "### Please use the following variables:\n"
   ]
  },
  {
   "cell_type": "code",
   "execution_count": 2,
   "metadata": {},
   "outputs": [],
   "source": [
    "import numpy as np\n",
    "\n",
    "x = np.array([3, 6])\n",
    "y = np.array([5, 2])\n",
    "data = np.array([[2, 3], [3, 4], [5, 7], [2, 7], [3, 2], [1, 2], [9, 3], [4, 1]])\n",
    "animals = [\"dog\", \"cat\", \"bird\", \"fish\", \"fish\", \"dog\", \"cat\", \"dog\"]"
   ]
  },
  {
   "cell_type": "markdown",
   "metadata": {},
   "source": [
    "### 1. Compute the euclidean distance between two points: `x` and `y`"
   ]
  },
  {
   "cell_type": "code",
   "execution_count": 3,
   "metadata": {},
   "outputs": [
    {
     "name": "stdout",
     "output_type": "stream",
     "text": [
      "4.47213595499958\n"
     ]
    }
   ],
   "source": [
    "distance = np.sqrt(((x[0] - y[0]) ** 2) + ((x[1] - y[1]) ** 2))\n",
    "print(distance)"
   ]
  },
  {
   "cell_type": "markdown",
   "metadata": {},
   "source": [
    "### 2. Turn your code into a function that can compute the distance between any two points."
   ]
  },
  {
   "cell_type": "code",
   "execution_count": 4,
   "metadata": {},
   "outputs": [],
   "source": [
    "def compute_distance(point1, point2):\n",
    "    return np.sqrt(((point1[0] - point2[0]) ** 2) + ((point1[1] - point2[1]) ** 2))"
   ]
  },
  {
   "cell_type": "markdown",
   "metadata": {},
   "source": [
    "Then verify that your function works by calling it with `x` and `y`"
   ]
  },
  {
   "cell_type": "code",
   "execution_count": 5,
   "metadata": {},
   "outputs": [
    {
     "name": "stdout",
     "output_type": "stream",
     "text": [
      "4.47213595499958\n"
     ]
    }
   ],
   "source": [
    "print(compute_distance(x,y))"
   ]
  },
  {
   "cell_type": "markdown",
   "metadata": {},
   "source": [
    "### 3. Compute the distance between `x` and every row in the `data` array.\n",
    "\n",
    "Save each of these distances into a new list or numpy array."
   ]
  },
  {
   "cell_type": "code",
   "execution_count": 6,
   "metadata": {},
   "outputs": [
    {
     "name": "stdout",
     "output_type": "stream",
     "text": [
      "[3.1622776601683795, 2.0, 2.23606797749979, 1.4142135623730951, 4.0, 4.47213595499958, 6.708203932499369, 5.0990195135927845]\n"
     ]
    }
   ],
   "source": [
    "distances = []\n",
    "for point in data:\n",
    "    distances.append(compute_distance(x, point))\n",
    "print(distances)"
   ]
  },
  {
   "cell_type": "markdown",
   "metadata": {},
   "source": [
    "### 4. Find the smallest two values in the list of distances you created in the last step."
   ]
  },
  {
   "cell_type": "code",
   "execution_count": 7,
   "metadata": {},
   "outputs": [
    {
     "name": "stdout",
     "output_type": "stream",
     "text": [
      "Two smallest values are 1.4142135623730951 2.0\n"
     ]
    }
   ],
   "source": [
    "sorted_dist = distances.copy()\n",
    "sorted_dist.sort()\n",
    "print(\"Two smallest values are\", sorted_dist[0], sorted_dist[1])"
   ]
  },
  {
   "cell_type": "markdown",
   "metadata": {},
   "source": [
    "### 5. Find the _indexes_ of the smallest  values in the list of distances\n",
    "\n",
    "(Hint: This is going to be super useful if you want to know not just the smallest distance but also which item corresponded to the smallest distance, so you could get its target value.)"
   ]
  },
  {
   "cell_type": "code",
   "execution_count": 8,
   "metadata": {},
   "outputs": [
    {
     "name": "stdout",
     "output_type": "stream",
     "text": [
      "Smallest index 3\n",
      "Second smallest 1\n"
     ]
    }
   ],
   "source": [
    "print(\"Smallest index\", distances.index(sorted_dist[0]))\n",
    "print(\"Second smallest\", distances.index(sorted_dist[1]))"
   ]
  },
  {
   "cell_type": "markdown",
   "metadata": {},
   "source": [
    "### 6. Find the animal that occurs most frequently in the `animals` list:"
   ]
  },
  {
   "cell_type": "code",
   "execution_count": 10,
   "metadata": {},
   "outputs": [
    {
     "name": "stdout",
     "output_type": "stream",
     "text": [
      "{'dog': 3, 'cat': 2, 'bird': 1, 'fish': 2}\n",
      "The most common animal is dog, occuring 3 times\n"
     ]
    }
   ],
   "source": [
    "my_map = {}\n",
    "\n",
    "for animal in animals:\n",
    "   if animal in my_map:\n",
    "    my_map[animal] += 1\n",
    "   else:\n",
    "    my_map[animal] = 1\n",
    "\n",
    "print(my_map)\n",
    "print(\"The most common animal is dog, occuring\", my_map[\"dog\"], \"times\")"
   ]
  }
 ],
 "metadata": {
  "kernelspec": {
   "display_name": "Python 3",
   "language": "python",
   "name": "python3"
  },
  "language_info": {
   "codemirror_mode": {
    "name": "ipython",
    "version": 3
   },
   "file_extension": ".py",
   "mimetype": "text/x-python",
   "name": "python",
   "nbconvert_exporter": "python",
   "pygments_lexer": "ipython3",
   "version": "3.7.4"
  }
 },
 "nbformat": 4,
 "nbformat_minor": 2
}
