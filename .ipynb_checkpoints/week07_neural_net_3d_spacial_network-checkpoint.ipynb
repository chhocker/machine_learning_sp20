{
 "cells": [
  {
   "cell_type": "code",
   "execution_count": 1,
   "metadata": {},
   "outputs": [],
   "source": [
    "import os\n",
    "os.chdir(\"/Users/Clair/machine_learning_sp20\")"
   ]
  },
  {
   "cell_type": "code",
   "execution_count": 52,
   "metadata": {},
   "outputs": [],
   "source": [
    "import numpy as np\n",
    "import pandas as pd\n",
    "import keras\n",
    "\n",
    "from sklearn.model_selection import train_test_split\n",
    "from keras.models import Sequential\n",
    "from keras.layers import Dense\n",
    "import matplotlib.pyplot as plt\n"
   ]
  },
  {
   "cell_type": "code",
   "execution_count": 3,
   "metadata": {},
   "outputs": [
    {
     "data": {
      "text/html": [
       "<div>\n",
       "<style scoped>\n",
       "    .dataframe tbody tr th:only-of-type {\n",
       "        vertical-align: middle;\n",
       "    }\n",
       "\n",
       "    .dataframe tbody tr th {\n",
       "        vertical-align: top;\n",
       "    }\n",
       "\n",
       "    .dataframe thead th {\n",
       "        text-align: right;\n",
       "    }\n",
       "</style>\n",
       "<table border=\"1\" class=\"dataframe\">\n",
       "  <thead>\n",
       "    <tr style=\"text-align: right;\">\n",
       "      <th></th>\n",
       "      <th>id</th>\n",
       "      <th>longitude</th>\n",
       "      <th>latitude</th>\n",
       "      <th>altitude</th>\n",
       "    </tr>\n",
       "  </thead>\n",
       "  <tbody>\n",
       "    <tr>\n",
       "      <td>0</td>\n",
       "      <td>144552912</td>\n",
       "      <td>9.349849</td>\n",
       "      <td>56.740876</td>\n",
       "      <td>17.052772</td>\n",
       "    </tr>\n",
       "    <tr>\n",
       "      <td>1</td>\n",
       "      <td>144552912</td>\n",
       "      <td>9.350188</td>\n",
       "      <td>56.740679</td>\n",
       "      <td>17.614840</td>\n",
       "    </tr>\n",
       "    <tr>\n",
       "      <td>2</td>\n",
       "      <td>144552912</td>\n",
       "      <td>9.350549</td>\n",
       "      <td>56.740544</td>\n",
       "      <td>18.083536</td>\n",
       "    </tr>\n",
       "    <tr>\n",
       "      <td>3</td>\n",
       "      <td>144552912</td>\n",
       "      <td>9.350806</td>\n",
       "      <td>56.740484</td>\n",
       "      <td>18.279465</td>\n",
       "    </tr>\n",
       "    <tr>\n",
       "      <td>4</td>\n",
       "      <td>144552912</td>\n",
       "      <td>9.351053</td>\n",
       "      <td>56.740486</td>\n",
       "      <td>18.422974</td>\n",
       "    </tr>\n",
       "    <tr>\n",
       "      <td>...</td>\n",
       "      <td>...</td>\n",
       "      <td>...</td>\n",
       "      <td>...</td>\n",
       "      <td>...</td>\n",
       "    </tr>\n",
       "    <tr>\n",
       "      <td>434869</td>\n",
       "      <td>93323205</td>\n",
       "      <td>9.936479</td>\n",
       "      <td>57.499686</td>\n",
       "      <td>20.134033</td>\n",
       "    </tr>\n",
       "    <tr>\n",
       "      <td>434870</td>\n",
       "      <td>93323205</td>\n",
       "      <td>9.935696</td>\n",
       "      <td>57.499426</td>\n",
       "      <td>20.580884</td>\n",
       "    </tr>\n",
       "    <tr>\n",
       "      <td>434871</td>\n",
       "      <td>93323205</td>\n",
       "      <td>9.935009</td>\n",
       "      <td>57.499282</td>\n",
       "      <td>19.733141</td>\n",
       "    </tr>\n",
       "    <tr>\n",
       "      <td>434872</td>\n",
       "      <td>93323209</td>\n",
       "      <td>9.943479</td>\n",
       "      <td>57.495919</td>\n",
       "      <td>24.027015</td>\n",
       "    </tr>\n",
       "    <tr>\n",
       "      <td>434873</td>\n",
       "      <td>93323209</td>\n",
       "      <td>9.943451</td>\n",
       "      <td>57.496270</td>\n",
       "      <td>24.635285</td>\n",
       "    </tr>\n",
       "  </tbody>\n",
       "</table>\n",
       "<p>434874 rows × 4 columns</p>\n",
       "</div>"
      ],
      "text/plain": [
       "               id  longitude   latitude   altitude\n",
       "0       144552912   9.349849  56.740876  17.052772\n",
       "1       144552912   9.350188  56.740679  17.614840\n",
       "2       144552912   9.350549  56.740544  18.083536\n",
       "3       144552912   9.350806  56.740484  18.279465\n",
       "4       144552912   9.351053  56.740486  18.422974\n",
       "...           ...        ...        ...        ...\n",
       "434869   93323205   9.936479  57.499686  20.134033\n",
       "434870   93323205   9.935696  57.499426  20.580884\n",
       "434871   93323205   9.935009  57.499282  19.733141\n",
       "434872   93323209   9.943479  57.495919  24.027015\n",
       "434873   93323209   9.943451  57.496270  24.635285\n",
       "\n",
       "[434874 rows x 4 columns]"
      ]
     },
     "execution_count": 3,
     "metadata": {},
     "output_type": "execute_result"
    }
   ],
   "source": [
    "#################################################################\n",
    "# DATASET #3\n",
    "#################################################################\n",
    "road_columns = [\"id\", \"longitude\", \"latitude\", \"altitude\"]\n",
    "spn_data = pd.read_csv(\"3D_spatial_network.txt\", delimiter=\",\", names=road_columns, header=None)"
   ]
  },
  {
   "cell_type": "code",
   "execution_count": 4,
   "metadata": {},
   "outputs": [],
   "source": [
    "spn_targets = spn_data[\"altitude\"]\n",
    "spn_data = spn_data.drop(columns=[\"altitude\", \"id\"])\n",
    "\n",
    "spn_data = spn_data[:].values"
   ]
  },
  {
   "cell_type": "code",
   "execution_count": 5,
   "metadata": {},
   "outputs": [],
   "source": [
    "train_data, test_data, train_targets, test_targets = train_test_split(spn_data, spn_targets, \n",
    "                                                                      test_size = 0.3, shuffle = True)"
   ]
  },
  {
   "cell_type": "code",
   "execution_count": 47,
   "metadata": {},
   "outputs": [],
   "source": [
    "classifier = Sequential()"
   ]
  },
  {
   "cell_type": "code",
   "execution_count": 48,
   "metadata": {},
   "outputs": [],
   "source": [
    "classifier.add(Dense(input_dim=2, units=6, activation='relu'))\n",
    "classifier.add(Dense(activation=\"relu\", units=6, kernel_initializer=\"uniform\"))\n",
    "\n",
    "classifier.add(Dense(activation=\"relu\", units=4, kernel_initializer=\"uniform\"))\n",
    "\n",
    "classifier.add(Dense(8, activation='relu'))\n",
    "classifier.add(Dense(1, activation='sigmoid'))"
   ]
  },
  {
   "cell_type": "code",
   "execution_count": 49,
   "metadata": {
    "scrolled": true
   },
   "outputs": [
    {
     "name": "stdout",
     "output_type": "stream",
     "text": [
      "Train on 304411 samples, validate on 130463 samples\n",
      "Epoch 1/10\n",
      "304411/304411 [==============================] - 10s 33us/step - loss: 795.5236 - mean_absolute_error: 21.1857 - val_loss: 795.6334 - val_mean_absolute_error: 21.2130\n",
      "Epoch 2/10\n",
      "304411/304411 [==============================] - 11s 36us/step - loss: 795.3716 - mean_absolute_error: 21.1822 - val_loss: 795.6334 - val_mean_absolute_error: 21.2130\n",
      "Epoch 3/10\n",
      "304411/304411 [==============================] - 12s 38us/step - loss: 795.3716 - mean_absolute_error: 21.1821 - val_loss: 795.6334 - val_mean_absolute_error: 21.2130\n",
      "Epoch 4/10\n",
      "304411/304411 [==============================] - 11s 37us/step - loss: 795.3716 - mean_absolute_error: 21.1821 - val_loss: 795.6334 - val_mean_absolute_error: 21.2130\n",
      "Epoch 5/10\n",
      "304411/304411 [==============================] - 11s 37us/step - loss: 795.3716 - mean_absolute_error: 21.1820 - val_loss: 795.6334 - val_mean_absolute_error: 21.2130\n",
      "Epoch 6/10\n",
      "304411/304411 [==============================] - 11s 37us/step - loss: 795.3716 - mean_absolute_error: 21.1821 - val_loss: 795.6334 - val_mean_absolute_error: 21.2130\n",
      "Epoch 7/10\n",
      "304411/304411 [==============================] - 12s 38us/step - loss: 795.3716 - mean_absolute_error: 21.1821 - val_loss: 795.6334 - val_mean_absolute_error: 21.2130\n",
      "Epoch 8/10\n",
      "304411/304411 [==============================] - 11s 36us/step - loss: 795.3716 - mean_absolute_error: 21.1821 - val_loss: 795.6334 - val_mean_absolute_error: 21.2130\n",
      "Epoch 9/10\n",
      "304411/304411 [==============================] - 11s 36us/step - loss: 795.3716 - mean_absolute_error: 21.1821 - val_loss: 795.6334 - val_mean_absolute_error: 21.2130\n",
      "Epoch 10/10\n",
      "304411/304411 [==============================] - 12s 38us/step - loss: 795.3716 - mean_absolute_error: 21.1821 - val_loss: 795.6334 - val_mean_absolute_error: 21.2130\n"
     ]
    }
   ],
   "source": [
    "# Compile model\n",
    "classifier.compile(loss=keras.losses.MeanSquaredError(), optimizer=keras.optimizers.RMSprop(), metrics=['mean_absolute_error'])\n",
    "\n",
    "# Fit the model\n",
    "ep = 50\n",
    "history = classifier.fit(train_data, train_targets,\n",
    "                    epochs=ep,\n",
    "                    validation_data=(test_data, test_targets))"
   ]
  },
  {
   "cell_type": "code",
   "execution_count": 55,
   "metadata": {},
   "outputs": [
    {
     "data": {
      "image/png": "[encoded data removed]",
      "text/plain": [
       "<Figure size 432x288 with 1 Axes>"
      ]
     },
     "metadata": {
      "needs_background": "light"
     },
     "output_type": "display_data"
    }
   ],
   "source": [
    "history.history.keys()\n",
    "plt.plot(history.history['mean_absolute_error'])\n",
    "plt.show()"
   ]
  }
 ],
 "metadata": {
  "kernelspec": {
   "display_name": "Python 3",
   "language": "python",
   "name": "python3"
  },
  "language_info": {
   "codemirror_mode": {
    "name": "ipython",
    "version": 3
   },
   "file_extension": ".py",
   "mimetype": "text/x-python",
   "name": "python",
   "nbconvert_exporter": "python",
   "pygments_lexer": "ipython3",
   "version": "3.6.9"
  }
 },
 "nbformat": 4,
 "nbformat_minor": 2
}
