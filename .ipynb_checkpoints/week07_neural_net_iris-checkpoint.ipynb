{
 "cells": [
  {
   "cell_type": "code",
   "execution_count": 41,
   "metadata": {},
   "outputs": [],
   "source": [
    "import os\n",
    "os.chdir(\"/Users/Clair/machine_learning_sp20\")"
   ]
  },
  {
   "cell_type": "code",
   "execution_count": 42,
   "metadata": {},
   "outputs": [],
   "source": [
    "import numpy as np\n",
    "import pandas as pd\n",
    "import keras\n",
    "\n",
    "from sklearn.model_selection import train_test_split\n",
    "from keras.models import Sequential\n",
    "import matplotlib.pyplot as plt\n",
    "from keras.layers import Dense\n",
    "from sklearn.preprocessing import OneHotEncoder\n"
   ]
  },
  {
   "cell_type": "code",
   "execution_count": 43,
   "metadata": {},
   "outputs": [
    {
     "name": "stderr",
     "output_type": "stream",
     "text": [
      "C:\\Users\\Clair\\Anaconda3\\lib\\site-packages\\sklearn\\preprocessing\\_encoders.py:415: FutureWarning: The handling of integer data will change in version 0.22. Currently, the categories are determined based on the range [0, max(values)], while in the future they will be determined based on the unique values.\n",
      "If you want the future behaviour and silence this warning, you can specify \"categories='auto'\".\n",
      "In case you used a LabelEncoder before this OneHotEncoder to convert the categories to integers, then you can now use the OneHotEncoder directly.\n",
      "  warnings.warn(msg, FutureWarning)\n"
     ]
    }
   ],
   "source": [
    "#################################################################\n",
    "# DATASET #4\n",
    "# Iris\n",
    "#################################################################\n",
    "from sklearn.datasets import load_iris\n",
    "iris = load_iris()\n",
    "\n",
    "#mess with the targets so it's in the right shape\n",
    "targs = iris.target.reshape(-1, 1) # Convert data to a single column\n",
    "\n",
    "# One Hot encode the class labels\n",
    "encoder = OneHotEncoder(sparse=False)\n",
    "targets = encoder.fit_transform(targs)"
   ]
  },
  {
   "cell_type": "code",
   "execution_count": 44,
   "metadata": {},
   "outputs": [],
   "source": [
    "train_data, test_data, train_targets, test_targets = train_test_split(iris.data, targets, \n",
    "                                                                      test_size = 0.3, shuffle = True)\n",
    "\n"
   ]
  },
  {
   "cell_type": "code",
   "execution_count": 50,
   "metadata": {},
   "outputs": [],
   "source": [
    "classifier = Sequential()\n",
    "classifier.add(Dense(8, input_dim=4, activation='relu'))\n",
    "classifier.add(Dense(8, input_dim=4, activation='relu'))\n",
    "\n",
    "classifier.add(Dense(8, input_dim=4, activation='relu'))\n",
    "\n",
    "classifier.add(Dense(3, activation='softmax'))\n"
   ]
  },
  {
   "cell_type": "code",
   "execution_count": 51,
   "metadata": {},
   "outputs": [
    {
     "name": "stdout",
     "output_type": "stream",
     "text": [
      "Epoch 1/25\n",
      "105/105 [==============================] - 0s 1ms/step - loss: 1.1379 - accuracy: 0.3429\n",
      "Epoch 2/25\n",
      "105/105 [==============================] - 0s 234us/step - loss: 1.0757 - accuracy: 0.3429\n",
      "Epoch 3/25\n",
      "105/105 [==============================] - 0s 294us/step - loss: 1.0304 - accuracy: 0.3429\n",
      "Epoch 4/25\n",
      "105/105 [==============================] - 0s 294us/step - loss: 0.9970 - accuracy: 0.3429\n",
      "Epoch 5/25\n",
      "105/105 [==============================] - 0s 332us/step - loss: 0.9670 - accuracy: 0.3810\n",
      "Epoch 6/25\n",
      "105/105 [==============================] - 0s 313us/step - loss: 0.9398 - accuracy: 0.6095\n",
      "Epoch 7/25\n",
      "105/105 [==============================] - 0s 209us/step - loss: 0.9117 - accuracy: 0.6762\n",
      "Epoch 8/25\n",
      "105/105 [==============================] - 0s 333us/step - loss: 0.8888 - accuracy: 0.6857\n",
      "Epoch 9/25\n",
      "105/105 [==============================] - 0s 190us/step - loss: 0.8646 - accuracy: 0.6857\n",
      "Epoch 10/25\n",
      "105/105 [==============================] - 0s 237us/step - loss: 0.8478 - accuracy: 0.6857\n",
      "Epoch 11/25\n",
      "105/105 [==============================] - 0s 228us/step - loss: 0.8295 - accuracy: 0.6857\n",
      "Epoch 12/25\n",
      "105/105 [==============================] - 0s 247us/step - loss: 0.8120 - accuracy: 0.6857\n",
      "Epoch 13/25\n",
      "105/105 [==============================] - 0s 218us/step - loss: 0.7959 - accuracy: 0.6857\n",
      "Epoch 14/25\n",
      "105/105 [==============================] - 0s 228us/step - loss: 0.7812 - accuracy: 0.6857\n",
      "Epoch 15/25\n",
      "105/105 [==============================] - 0s 237us/step - loss: 0.7674 - accuracy: 0.6857\n",
      "Epoch 16/25\n",
      "105/105 [==============================] - 0s 228us/step - loss: 0.7536 - accuracy: 0.6857\n",
      "Epoch 17/25\n",
      "105/105 [==============================] - 0s 275us/step - loss: 0.7404 - accuracy: 0.6857\n",
      "Epoch 18/25\n",
      "105/105 [==============================] - 0s 304us/step - loss: 0.7246 - accuracy: 0.6857\n",
      "Epoch 19/25\n",
      "105/105 [==============================] - 0s 266us/step - loss: 0.7093 - accuracy: 0.6857\n",
      "Epoch 20/25\n",
      "105/105 [==============================] - 0s 117us/step - loss: 0.6940 - accuracy: 0.6857\n",
      "Epoch 21/25\n",
      "105/105 [==============================] - 0s 299us/step - loss: 0.6771 - accuracy: 0.6857\n",
      "Epoch 22/25\n",
      "105/105 [==============================] - 0s 266us/step - loss: 0.6579 - accuracy: 0.6857\n",
      "Epoch 23/25\n",
      "105/105 [==============================] - ETA: 0s - loss: 0.7014 - accuracy: 0.60 - 0s 237us/step - loss: 0.6368 - accuracy: 0.6857\n",
      "Epoch 24/25\n",
      "105/105 [==============================] - 0s 285us/step - loss: 0.6161 - accuracy: 0.6857\n",
      "Epoch 25/25\n",
      "105/105 [==============================] - 0s 256us/step - loss: 0.5925 - accuracy: 0.6857\n"
     ]
    }
   ],
   "source": [
    "# Compile model\n",
    "classifier.compile(loss='categorical_crossentropy', optimizer='adam', metrics=['accuracy'])\n",
    "history = classifier.fit(train_data, train_targets, batch_size=5, epochs=25)"
   ]
  },
  {
   "cell_type": "code",
   "execution_count": 47,
   "metadata": {},
   "outputs": [
    {
     "name": "stdout",
     "output_type": "stream",
     "text": [
      "Number of epochs: 10\n",
      "Test loss: 0.128, Test Accuracy: 0.933\n"
     ]
    }
   ],
   "source": [
    "train_acc, test_acc = classifier.evaluate(test_data, test_targets, verbose=0)\n",
    "print(\"Number of epochs:\", ep)\n",
    "print('Test loss: %.3f, Test Accuracy: %.3f' % (train_acc, test_acc))"
   ]
  },
  {
   "cell_type": "code",
   "execution_count": 48,
   "metadata": {},
   "outputs": [
    {
     "data": {
      "image/png": "[encoded data removed]",
      "text/plain": [
       "<Figure size 432x288 with 1 Axes>"
      ]
     },
     "metadata": {
      "needs_background": "light"
     },
     "output_type": "display_data"
    }
   ],
   "source": [
    "plt.plot(history.history['accuracy'])\n",
    "plt.ylabel('accuracy')\n",
    "plt.xlabel('epoch')\n",
    "plt.show()"
   ]
  }
 ],
 "metadata": {
  "kernelspec": {
   "display_name": "Python 3",
   "language": "python",
   "name": "python3"
  },
  "language_info": {
   "codemirror_mode": {
    "name": "ipython",
    "version": 3
   },
   "file_extension": ".py",
   "mimetype": "text/x-python",
   "name": "python",
   "nbconvert_exporter": "python",
   "pygments_lexer": "ipython3",
   "version": "3.6.9"
  }
 },
 "nbformat": 4,
 "nbformat_minor": 2
}
