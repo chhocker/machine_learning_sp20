{
 "cells": [
  {
   "cell_type": "code",
   "execution_count": 98,
   "metadata": {},
   "outputs": [],
   "source": [
    "from sklearn import datasets\n",
    "iris = datasets.load_iris()"
   ]
  },
  {
   "cell_type": "code",
   "execution_count": 99,
   "metadata": {},
   "outputs": [],
   "source": [
    "from sklearn.model_selection import train_test_split\n",
    "\n",
    "#Split up the data and targets into train/test sets\n",
    "data_train, data_test, target_train, target_test = train_test_split(iris.data, iris.target, test_size = 0.3, shuffle = True)\n"
   ]
  },
  {
   "cell_type": "code",
   "execution_count": 100,
   "metadata": {},
   "outputs": [
    {
     "data": {
      "text/plain": [
       "GaussianNB(priors=None, var_smoothing=1e-09)"
      ]
     },
     "execution_count": 100,
     "metadata": {},
     "output_type": "execute_result"
    }
   ],
   "source": [
    "from sklearn.naive_bayes import GaussianNB\n",
    "\n",
    "#Train the model\n",
    "classifier = GaussianNB()\n",
    "classifier.fit(data_train, target_train)"
   ]
  },
  {
   "cell_type": "code",
   "execution_count": 101,
   "metadata": {},
   "outputs": [
    {
     "name": "stdout",
     "output_type": "stream",
     "text": [
      "Percentage correct of Gaussian NB:  17.14 %\n"
     ]
    }
   ],
   "source": [
    "#get the predicted targets\n",
    "targets_predicted = classifier.predict(data_test)\n",
    "\n",
    "#count the number of matches between predicted and actual targets\n",
    "numMatches = 0\n",
    "for predicted, actual in zip(targets_predicted, target_train):\n",
    "    if (predicted == actual):\n",
    "        numMatches += 1\n",
    "\n",
    "\n",
    "#calculate and print percentages    \n",
    "percentage = 100 * (numMatches / len(target_train))\n",
    "\n",
    "print(\"Percentage correct of Gaussian NB: \", round(percentage, 2), \"%\")\n"
   ]
  },
  {
   "cell_type": "code",
   "execution_count": 102,
   "metadata": {},
   "outputs": [],
   "source": [
    "#Class with my hard-coded, rather useless classifier\n",
    "class HardCodedClassifier:\n",
    "    def __init__(self):\n",
    "        print(\"Create!\")\n",
    "        \n",
    "    def fit(self, data_train, targets_train):\n",
    "        print(\"Fit!\") \n",
    "    \n",
    "    def predict(self, test_data):\n",
    "        print(\"Predict!\")\n",
    "        fake_target = []\n",
    "        for data in test_data:\n",
    "            fake_target.append(1)\n",
    "        return fake_target"
   ]
  },
  {
   "cell_type": "code",
   "execution_count": 103,
   "metadata": {},
   "outputs": [
    {
     "name": "stdout",
     "output_type": "stream",
     "text": [
      "Create!\n",
      "Fit!\n",
      "Predict!\n"
     ]
    }
   ],
   "source": [
    "#create a new classifier and train it\n",
    "classifier = HardCodedClassifier()\n",
    "classifier.fit(data_train, target_train)\n",
    "\n",
    "#get the predictions\n",
    "targets_predicted = classifier.predict(data_test)"
   ]
  },
  {
   "cell_type": "code",
   "execution_count": 104,
   "metadata": {},
   "outputs": [
    {
     "name": "stdout",
     "output_type": "stream",
     "text": [
      "Percentage correct of hard coded classifier:  9.52 %\n"
     ]
    }
   ],
   "source": [
    "#calculate the number of matches\n",
    "numMatches = 0\n",
    "for predicted, actual in zip(targets_predicted, target_train):\n",
    "    if (predicted == actual):\n",
    "        numMatches += 1\n",
    "\n",
    "#calculate and print the percentage of matches\n",
    "percentage = 100 * (numMatches / len(target_train))\n",
    "print(\"Percentage correct of hard coded classifier: \", round(percentage, 2), \"%\")\n"
   ]
  }
 ],
 "metadata": {
  "kernelspec": {
   "display_name": "Python 3",
   "language": "python",
   "name": "python3"
  },
  "language_info": {
   "codemirror_mode": {
    "name": "ipython",
    "version": 3
   },
   "file_extension": ".py",
   "mimetype": "text/x-python",
   "name": "python",
   "nbconvert_exporter": "python",
   "pygments_lexer": "ipython3",
   "version": "3.7.4"
  }
 },
 "nbformat": 4,
 "nbformat_minor": 2
}
