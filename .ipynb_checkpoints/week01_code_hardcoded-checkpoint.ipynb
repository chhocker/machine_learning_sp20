{
 "cells": [
  {
   "cell_type": "code",
   "execution_count": 40,
   "metadata": {},
   "outputs": [],
   "source": [
    "from sklearn import datasets\n",
    "from sklearn.datasets import load_digits\n",
    "\n",
    "iris = datasets.load_iris()\n",
    "digits = load_digits()"
   ]
  },
  {
   "cell_type": "code",
   "execution_count": 41,
   "metadata": {},
   "outputs": [],
   "source": [
    "from sklearn.model_selection import train_test_split\n",
    "from sklearn.metrics import accuracy_score\n",
    "from sklearn.naive_bayes import GaussianNB\n",
    "\n",
    "\n",
    "#Split up the data and targets into train/test sets\n",
    "train_data, test_data, train_target, test_target = train_test_split(iris.data, iris.target, test_size = 0.3, shuffle = True)"
   ]
  },
  {
   "cell_type": "code",
   "execution_count": 42,
   "metadata": {},
   "outputs": [
    {
     "data": {
      "text/plain": [
       "GaussianNB(priors=None, var_smoothing=1e-09)"
      ]
     },
     "execution_count": 42,
     "metadata": {},
     "output_type": "execute_result"
    }
   ],
   "source": [
    "#Train the model\n",
    "classifier = GaussianNB()\n",
    "classifier.fit(train_data, train_target)"
   ]
  },
  {
   "cell_type": "code",
   "execution_count": 43,
   "metadata": {},
   "outputs": [
    {
     "name": "stdout",
     "output_type": "stream",
     "text": [
      "Percentage correct of Gaussian NB:  97.78 %\n"
     ]
    }
   ],
   "source": [
    "#get the predicted targets\n",
    "targets_predicted = classifier.predict(test_data)\n",
    "\n",
    "print(\"Percentage correct of Gaussian NB: \", round(accuracy_score(test_target, targets_predicted) * 100, 2), \"%\")"
   ]
  },
  {
   "cell_type": "code",
   "execution_count": 32,
   "metadata": {},
   "outputs": [],
   "source": [
    "#Class with my hard-coded, rather useless classifier\n",
    "class HardCodedClassifier:\n",
    "    def __init__(self):\n",
    "        print(\"Create!\")\n",
    "        \n",
    "    def fit(self, data_train, targets_train):\n",
    "        print(\"Fit!\") \n",
    "    \n",
    "    def predict(self, test_data):\n",
    "        print(\"Predict!\")\n",
    "        fake_target = []\n",
    "        for data in test_data:\n",
    "            fake_target.append(1)\n",
    "        return fake_target"
   ]
  },
  {
   "cell_type": "code",
   "execution_count": 44,
   "metadata": {},
   "outputs": [
    {
     "name": "stdout",
     "output_type": "stream",
     "text": [
      "Create!\n",
      "Fit!\n"
     ]
    }
   ],
   "source": [
    "#create a new classifier and train it\n",
    "classifier = HardCodedClassifier()\n",
    "classifier.fit(train_data, train_target)"
   ]
  },
  {
   "cell_type": "code",
   "execution_count": 45,
   "metadata": {},
   "outputs": [
    {
     "name": "stdout",
     "output_type": "stream",
     "text": [
      "Predict!\n",
      "Percentage correct of HardCodedClassifier:  26.67 %\n"
     ]
    }
   ],
   "source": [
    "#get the predictions\n",
    "targets_predicted = classifier.predict(test_data)\n",
    "\n",
    "print(\"Percentage correct of HardCodedClassifier: \", round(accuracy_score(test_target, targets_predicted) * 100, 2) , \"%\")"
   ]
  },
  {
   "cell_type": "code",
   "execution_count": 46,
   "metadata": {},
   "outputs": [
    {
     "ename": "NameError",
     "evalue": "name 'digits' is not defined",
     "output_type": "error",
     "traceback": [
      "\u001b[1;31m---------------------------------------------------------------------------\u001b[0m",
      "\u001b[1;31mNameError\u001b[0m                                 Traceback (most recent call last)",
      "\u001b[1;32m<ipython-input-46-d9cb39ec169e>\u001b[0m in \u001b[0;36m<module>\u001b[1;34m\u001b[0m\n\u001b[1;32m----> 1\u001b[1;33m \u001b[0mtrain_data\u001b[0m\u001b[1;33m,\u001b[0m \u001b[0mtest_data\u001b[0m\u001b[1;33m,\u001b[0m \u001b[0mtrain_target\u001b[0m\u001b[1;33m,\u001b[0m \u001b[0mtest_target\u001b[0m \u001b[1;33m=\u001b[0m \u001b[0mtrain_test_split\u001b[0m\u001b[1;33m(\u001b[0m\u001b[0mdigits\u001b[0m\u001b[1;33m.\u001b[0m\u001b[0mdata\u001b[0m\u001b[1;33m,\u001b[0m \u001b[0mdigits\u001b[0m\u001b[1;33m.\u001b[0m\u001b[0mtarget\u001b[0m\u001b[1;33m,\u001b[0m \u001b[0mtest_size\u001b[0m \u001b[1;33m=\u001b[0m \u001b[1;36m0.3\u001b[0m\u001b[1;33m,\u001b[0m \u001b[0mshuffle\u001b[0m \u001b[1;33m=\u001b[0m \u001b[1;32mTrue\u001b[0m\u001b[1;33m)\u001b[0m\u001b[1;33m\u001b[0m\u001b[1;33m\u001b[0m\u001b[0m\n\u001b[0m",
      "\u001b[1;31mNameError\u001b[0m: name 'digits' is not defined"
     ]
    }
   ],
   "source": [
    "train_data, test_data, train_target, test_target = train_test_split(digits.data, digits.target, test_size = 0.3, shuffle = True)\n",
    "classifier.fit(train_data, train_target)\n",
    "print(\"Percentage correct of HardCodedClassifier: \", round(accuracy_score(test_target, targets_predicted) * 100, 2) , \"%\")"
   ]
  },
  {
   "cell_type": "code",
   "execution_count": null,
   "metadata": {},
   "outputs": [],
   "source": []
  }
 ],
 "metadata": {
  "kernelspec": {
   "display_name": "Python 3",
   "language": "python",
   "name": "python3"
  },
  "language_info": {
   "codemirror_mode": {
    "name": "ipython",
    "version": 3
   },
   "file_extension": ".py",
   "mimetype": "text/x-python",
   "name": "python",
   "nbconvert_exporter": "python",
   "pygments_lexer": "ipython3",
   "version": "3.7.4"
  }
 },
 "nbformat": 4,
 "nbformat_minor": 2
}
