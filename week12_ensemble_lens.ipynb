{
 "cells": [
  {
   "cell_type": "code",
   "execution_count": 3,
   "metadata": {},
   "outputs": [],
   "source": [
    "import os\n",
    "os.chdir(\"/Users/Clair/machine_learning_sp20\")"
   ]
  },
  {
   "cell_type": "code",
   "execution_count": 4,
   "metadata": {},
   "outputs": [],
   "source": [
    "from sklearn import tree\n",
    "from sklearn.model_selection import train_test_split\n",
    "import pandas as pd\n",
    "import matplotlib.pyplot as plt\n",
    "import graphviz \n",
    "import pydotplus"
   ]
  },
  {
   "cell_type": "code",
   "execution_count": 5,
   "metadata": {},
   "outputs": [],
   "source": [
    "#################################################################\n",
    "# DATASET -- CONTACT LENS\n",
    "# Classification\n",
    "# Number of Instances: 24\n",
    "##################################################################\n",
    "lens_cols = [\"index\",\"age\", \"prescript\", \"astigm\", \"tear_rate\", \"lens\"]\n",
    "lens_data = pd.read_csv(\"lenses.data\", delimiter=\"\\s+\", names=lens_cols, header=None, na_values=[\"?\"])\n",
    "\n",
    "lens_targs = lens_data[\"lens\"]\n",
    "lens_data = lens_data.drop(columns=[\"lens\", \"index\"])"
   ]
  },
  {
   "cell_type": "code",
   "execution_count": 6,
   "metadata": {},
   "outputs": [],
   "source": [
    "train_data, test_data, train_targets, test_targets = train_test_split(lens_data, lens_targs, test_size = 0.3, shuffle = True)"
   ]
  },
  {
   "cell_type": "code",
   "execution_count": 7,
   "metadata": {},
   "outputs": [
    {
     "name": "stdout",
     "output_type": "stream",
     "text": [
      "Accuracy:  75.0 %\n"
     ]
    }
   ],
   "source": [
    "# TREE #2\n",
    "clf = tree.DecisionTreeClassifier(random_state=0, criterion=\"entropy\")\n",
    "clf.fit(train_data, train_targets)\n",
    "\n",
    "print(\"Accuracy: \", round(clf.score(test_data, test_targets) * 100, 2), \"%\")"
   ]
  },
  {
   "cell_type": "code",
   "execution_count": 14,
   "metadata": {},
   "outputs": [
    {
     "name": "stdout",
     "output_type": "stream",
     "text": [
      "Accuracy:  75.0 %\n"
     ]
    }
   ],
   "source": [
    "# Import the model we are using\n",
    "from sklearn.ensemble import RandomForestClassifier\n",
    "# Instantiate model with 1000 decision trees\n",
    "rf = RandomForestClassifier(n_estimators=100)\n",
    "\n",
    "# Train the model on training data\n",
    "rf.fit(train_data, train_targets);\n",
    "\n",
    "print(\"Accuracy: \", round(rf.score(test_data, test_targets) * 100, 2), \"%\")\n"
   ]
  },
  {
   "cell_type": "code",
   "execution_count": 11,
   "metadata": {},
   "outputs": [
    {
     "name": "stdout",
     "output_type": "stream",
     "text": [
      "Accuracy:  62.5 %\n"
     ]
    }
   ],
   "source": [
    "from sklearn.ensemble import GradientBoostingClassifier\n",
    "\n",
    "gbc = GradientBoostingClassifier()\n",
    "gbc.fit(train_data, train_targets);\n",
    "print(\"Accuracy: \", round(gbc.score(test_data, test_targets) * 100, 2), \"%\")"
   ]
  }
 ],
 "metadata": {
  "kernelspec": {
   "display_name": "Python 3",
   "language": "python",
   "name": "python3"
  },
  "language_info": {
   "codemirror_mode": {
    "name": "ipython",
    "version": 3
   },
   "file_extension": ".py",
   "mimetype": "text/x-python",
   "name": "python",
   "nbconvert_exporter": "python",
   "pygments_lexer": "ipython3",
   "version": "3.6.9"
  }
 },
 "nbformat": 4,
 "nbformat_minor": 2
}
