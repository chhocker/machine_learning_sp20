{
 "cells": [
  {
   "cell_type": "code",
   "execution_count": 55,
   "metadata": {},
   "outputs": [],
   "source": [
    "from sklearn import datasets\n",
    "from sklearn.model_selection import train_test_split\n",
    "from sklearn.metrics import accuracy_score\n",
    "from sklearn.neighbors import KNeighborsClassifier\n",
    "import numpy as np"
   ]
  },
  {
   "cell_type": "code",
   "execution_count": 56,
   "metadata": {},
   "outputs": [],
   "source": [
    "iris = datasets.load_iris()\n",
    "#Split up the data and targets into train/test sets\n",
    "train_data, test_data, train_target, test_target = train_test_split(iris.data, iris.target, test_size = 0.3, shuffle = True)"
   ]
  },
  {
   "cell_type": "code",
   "execution_count": 74,
   "metadata": {},
   "outputs": [],
   "source": [
    "class KNNClassifier:\n",
    "    def __init__(self, k, dist_type):\n",
    "        self.k = k\n",
    "        self.dist_type = dist_type\n",
    "        \n",
    "    def fit(self, train_data, train_targets):\n",
    "        self.train_data = train_data\n",
    "        self.train_targets = train_targets\n",
    "    \n",
    "    def get_distance(self, pointA, pointB):\n",
    "        distance = 0;\n",
    "        if (self.dist_type == 1):\n",
    "            for x1, x2 in zip(pointA, pointB):\n",
    "                distance += (x1 - x2) ** 2\n",
    "            distance = np.sqrt(distance)\n",
    "        else:\n",
    "             for x1, x2 in zip(pointA, pointB):\n",
    "                distance += abs(x1 - x2)           \n",
    "        return distance\n",
    "    \n",
    "    def find_mode(self, targets):\n",
    "        target_counts = {}\n",
    "        # Make a map with the key being the possible target and the value\n",
    "        # being its number of occurances\n",
    "        for x in targets:\n",
    "            if x in target_counts:\n",
    "                target_counts[x] += 1\n",
    "            else:\n",
    "                target_counts[x] = 1  \n",
    "        #return the key of the target that has the most counts\n",
    "        return max(target_counts, key = lambda k: target_counts[k])\n",
    "        \n",
    "    def find_k_nearest(self, dists):\n",
    "        sorted_dist = dists.copy()\n",
    "        sorted_dist.sort()\n",
    "        k_n_indicies = []\n",
    "        \n",
    "        # use the sorted list to find the indicies of the k\n",
    "        # closest neighbors\n",
    "        for i in range(0, self.k):\n",
    "            k_n_indicies.append(dists.index(sorted_dist[i]))\n",
    "        \n",
    "        return k_n_indicies\n",
    "          \n",
    "    def predict_one(self, test_datum):\n",
    "        distances = []\n",
    "        targets = []\n",
    "            \n",
    "        for i in range(len(self.train_data)): \n",
    "            # put each distance into a list\n",
    "            distances.append(self.get_distance(self.train_data[i], test_datum))         \n",
    "            \n",
    "        indices = self.find_k_nearest(distances)\n",
    "        for i in indices:\n",
    "            targets.append(self.train_targets[i])          \n",
    "        return self.find_mode(targets)\n",
    "    \n",
    "    def predict(self, test_data):\n",
    "        predictions = []\n",
    "        for test_datum in test_data:\n",
    "            prediction = self.predict_one(test_datum)\n",
    "            predictions.append(prediction)\n",
    "            \n",
    "        return predictions\n",
    "    "
   ]
  },
  {
   "cell_type": "code",
   "execution_count": 82,
   "metadata": {},
   "outputs": [
    {
     "name": "stdout",
     "output_type": "stream",
     "text": [
      "My classifier got:  95.56 %\n"
     ]
    }
   ],
   "source": [
    "classifier = KNNClassifier(3, 1)\n",
    "classifier.fit(train_data, train_target)\n",
    "predicted_targets = classifier.predict(test_data)\n",
    "\n",
    "print(\"My classifier got: \", round(accuracy_score(test_target, predicted_targets) * 100, 2) , \"%\")"
   ]
  },
  {
   "cell_type": "code",
   "execution_count": 83,
   "metadata": {},
   "outputs": [
    {
     "name": "stdout",
     "output_type": "stream",
     "text": [
      "My classifier got:  97.78 %\n"
     ]
    }
   ],
   "source": [
    "classifier = KNNClassifier(3, 0)\n",
    "classifier.fit(train_data, train_target)\n",
    "predicted_targets = classifier.predict(test_data)\n",
    "\n",
    "print(\"My classifier got: \", round(accuracy_score(test_target, predicted_targets) * 100, 2) , \"%\")"
   ]
  },
  {
   "cell_type": "code",
   "execution_count": 59,
   "metadata": {
    "scrolled": true
   },
   "outputs": [
    {
     "name": "stdout",
     "output_type": "stream",
     "text": [
      "[0, 2, 0, 1, 2, 1, 0, 1, 0, 2, 0, 1, 0, 0, 1, 1, 1, 1, 1, 0, 1, 2, 0, 1, 0, 2, 2, 2, 1, 0, 0, 0, 1, 0, 0, 2, 1, 0, 2, 2, 1, 2, 0, 0, 2]\n",
      "[0 2 0 1 2 2 0 1 0 2 0 1 0 0 1 1 1 1 1 0 1 2 0 1 0 2 2 2 1 0 0 0 1 0 0 2 1\n",
      " 0 2 2 1 2 0 0 2]\n"
     ]
    }
   ],
   "source": [
    "print(predicted_targets)\n",
    "print(test_target)"
   ]
  },
  {
   "cell_type": "code",
   "execution_count": 60,
   "metadata": {},
   "outputs": [
    {
     "name": "stdout",
     "output_type": "stream",
     "text": [
      "The sklearn KNN classifier got:  97.78 %\n"
     ]
    }
   ],
   "source": [
    "#############################################\n",
    "# EXPERIMENTATION\n",
    "#############################################\n",
    "classifier = KNeighborsClassifier(n_neighbors=1)\n",
    "classifier.fit(train_data, train_target)\n",
    "predicted_targets = classifier.predict(test_data)\n",
    "\n",
    "print(\"The sklearn KNN classifier got: \", round(accuracy_score(test_target, predicted_targets) * 100, 2) , \"%\")"
   ]
  },
  {
   "cell_type": "code",
   "execution_count": 67,
   "metadata": {},
   "outputs": [
    {
     "name": "stdout",
     "output_type": "stream",
     "text": [
      "The sklearn KNN classifier got:  97.78 %\n"
     ]
    }
   ],
   "source": [
    "classifier = KNeighborsClassifier(n_neighbors=3, p=1)\n",
    "classifier.fit(train_data, train_target)\n",
    "predicted_targets = classifier.predict(test_data)\n",
    "\n",
    "print(\"The sklearn KNN classifier got: \", round(accuracy_score(test_target, predicted_targets) * 100, 2) , \"%\")"
   ]
  },
  {
   "cell_type": "code",
   "execution_count": 68,
   "metadata": {},
   "outputs": [
    {
     "name": "stdout",
     "output_type": "stream",
     "text": [
      "The sklearn KNN classifier got:  97.78 %\n"
     ]
    }
   ],
   "source": [
    "classifier = KNeighborsClassifier(n_neighbors=5, p=1)\n",
    "classifier.fit(train_data, train_target)\n",
    "predicted_targets = classifier.predict(test_data)\n",
    "\n",
    "print(\"The sklearn KNN classifier got: \", round(accuracy_score(test_target, predicted_targets) * 100, 2) , \"%\")"
   ]
  },
  {
   "cell_type": "code",
   "execution_count": 69,
   "metadata": {},
   "outputs": [
    {
     "name": "stdout",
     "output_type": "stream",
     "text": [
      "The sklearn KNN classifier got:  97.78 %\n"
     ]
    }
   ],
   "source": [
    "classifier = KNeighborsClassifier(n_neighbors=4, p=1)\n",
    "classifier.fit(train_data, train_target)\n",
    "predicted_targets = classifier.predict(test_data)\n",
    "\n",
    "print(\"The sklearn KNN classifier got: \", round(accuracy_score(test_target, predicted_targets) * 100, 2) , \"%\")"
   ]
  },
  {
   "cell_type": "code",
   "execution_count": 71,
   "metadata": {},
   "outputs": [
    {
     "name": "stdout",
     "output_type": "stream",
     "text": [
      "The sklearn KNN classifier got:  95.56 %\n"
     ]
    }
   ],
   "source": [
    "classifier = KNeighborsClassifier(n_neighbors=9, p=1)\n",
    "classifier.fit(train_data, train_target)\n",
    "predicted_targets = classifier.predict(test_data)\n",
    "\n",
    "print(\"The sklearn KNN classifier got: \", round(accuracy_score(test_target, predicted_targets) * 100, 2) , \"%\")"
   ]
  },
  {
   "cell_type": "code",
   "execution_count": null,
   "metadata": {},
   "outputs": [],
   "source": []
  }
 ],
 "metadata": {
  "kernelspec": {
   "display_name": "Python 3",
   "language": "python",
   "name": "python3"
  },
  "language_info": {
   "codemirror_mode": {
    "name": "ipython",
    "version": 3
   },
   "file_extension": ".py",
   "mimetype": "text/x-python",
   "name": "python",
   "nbconvert_exporter": "python",
   "pygments_lexer": "ipython3",
   "version": "3.7.4"
  }
 },
 "nbformat": 4,
 "nbformat_minor": 2
}
