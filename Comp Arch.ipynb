{
 "cells": [
  {
   "cell_type": "code",
   "execution_count": 15,
   "metadata": {},
   "outputs": [
    {
     "name": "stdout",
     "output_type": "stream",
     "text": [
      "S = 8.0\n",
      "t =  24.0\n",
      "s = 3.0\n",
      "b =  5.0\n"
     ]
    }
   ],
   "source": [
    "import math\n",
    "em = 32\n",
    "big_c = 1024\n",
    "\n",
    "big_b = 32\n",
    "e = 4\n",
    "\n",
    "S = big_c / (big_b * e)\n",
    "b = math.log2(big_b)\n",
    "s = math.log2(S)\n",
    "\n",
    "print(\"S =\", (2 ** s))\n",
    "print(\"t = \", (em - (s + b)))\n",
    "print(\"s =\", s)\n",
    "print(\"b = \", b)\n"
   ]
  }
 ],
 "metadata": {
  "kernelspec": {
   "display_name": "Python 3",
   "language": "python",
   "name": "python3"
  },
  "language_info": {
   "codemirror_mode": {
    "name": "ipython",
    "version": 3
   },
   "file_extension": ".py",
   "mimetype": "text/x-python",
   "name": "python",
   "nbconvert_exporter": "python",
   "pygments_lexer": "ipython3",
   "version": "3.7.4"
  }
 },
 "nbformat": 4,
 "nbformat_minor": 2
}
