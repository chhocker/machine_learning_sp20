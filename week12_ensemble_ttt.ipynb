{
 "cells": [
  {
   "cell_type": "code",
   "execution_count": 11,
   "metadata": {},
   "outputs": [],
   "source": [
    "import os\n",
    "os.chdir(\"/Users/Clair/machine_learning_sp20\")"
   ]
  },
  {
   "cell_type": "code",
   "execution_count": 13,
   "metadata": {},
   "outputs": [],
   "source": [
    "from sklearn import tree\n",
    "from sklearn.model_selection import train_test_split\n",
    "import pandas as pd\n",
    "import matplotlib.pyplot as plt\n",
    "import graphviz \n",
    "import pydotplus"
   ]
  },
  {
   "cell_type": "code",
   "execution_count": 14,
   "metadata": {},
   "outputs": [],
   "source": [
    "#################################################################\n",
    "# DATASET -- TIC-TAC-TOE\n",
    "# Classification\n",
    "##################################################################\n",
    "ttt_columns = [\"top_left_square\", \"top_middle_square\", \"top_right_square\", \"middle_left_square\", \"middle_middle_square\",\n",
    "                 \"middle_right_square\", \"bottom_left_square\", \"bottom_middle_square\",\"bottom_right_square\", \"winner\"]\n",
    "ttt_data = pd.read_csv(\"tic-tac-toe.data\", delimiter=\",\", names=ttt_columns, header=None)\n",
    "\n",
    "\n",
    "ttt_data[\"top_left_square\"] = ttt_data.top_left_square.map({\"o\": 0, \"x\": 1, \"b\": 3})\n",
    "ttt_data[\"top_middle_square\"] = ttt_data.top_middle_square.map({\"o\": 0, \"x\": 1, \"b\": 3})\n",
    "ttt_data[\"top_right_square\"] = ttt_data.top_right_square.map({\"o\": 0, \"x\": 1, \"b\": 3})\n",
    "\n",
    "ttt_data[\"middle_left_square\"] = ttt_data.middle_left_square.map({\"o\": 0, \"x\": 1, \"b\": 3})\n",
    "ttt_data[\"middle_middle_square\"] = ttt_data.middle_middle_square.map({\"o\": 0, \"x\": 1, \"b\": 3})\n",
    "ttt_data[\"middle_right_square\"] = ttt_data.middle_right_square.map({\"o\": 0, \"x\": 1, \"b\": 3})\n",
    "\n",
    "ttt_data[\"bottom_left_square\"] = ttt_data.bottom_left_square.map({\"o\": 0, \"x\": 1, \"b\": 3})\n",
    "ttt_data[\"bottom_middle_square\"] = ttt_data.bottom_middle_square.map({\"o\": 0, \"x\": 1, \"b\": 3})\n",
    "ttt_data[\"bottom_right_square\"] = ttt_data.bottom_right_square.map({\"o\": 0, \"x\": 1, \"b\": 3})\n",
    "\n",
    "ttt_data[\"winner\"] = ttt_data.winner.map({\"positive\": 1, \"negative\": 0})\n",
    "ttt_data[\"x_wins\"] = ttt_data[\"winner\"]\n",
    "\n",
    "ttt_targets = ttt_data[\"x_wins\"]\n",
    "ttt_data = ttt_data.drop(columns=[\"winner\", \"x_wins\"])\n"
   ]
  },
  {
   "cell_type": "code",
   "execution_count": 15,
   "metadata": {},
   "outputs": [],
   "source": [
    "train_data, test_data, train_targets, test_targets = train_test_split(ttt_data, ttt_targets, test_size = 0.3, shuffle = True)"
   ]
  },
  {
   "cell_type": "code",
   "execution_count": 16,
   "metadata": {},
   "outputs": [
    {
     "name": "stdout",
     "output_type": "stream",
     "text": [
      "Accuracy:  94.1 %\n"
     ]
    }
   ],
   "source": [
    "# TREE #1\n",
    "clf = tree.DecisionTreeClassifier(random_state=0, criterion=\"entropy\")\n",
    "clf.fit(train_data, train_targets)\n",
    "\n",
    "\n",
    "print(\"Accuracy: \", round(clf.score(test_data, test_targets) * 100, 2), \"%\")"
   ]
  },
  {
   "cell_type": "code",
   "execution_count": 20,
   "metadata": {},
   "outputs": [
    {
     "name": "stdout",
     "output_type": "stream",
     "text": [
      "Accuracy:  97.57 %\n"
     ]
    }
   ],
   "source": [
    "# Import the model we are using\n",
    "from sklearn.ensemble import RandomForestClassifier\n",
    "# Instantiate model with 1000 decision trees\n",
    "rf = RandomForestClassifier(n_estimators=100)\n",
    "\n",
    "# Train the model on training data\n",
    "rf.fit(train_data, train_targets);\n",
    "\n",
    "print(\"Accuracy: \", round(rf.score(test_data, test_targets) * 100, 2), \"%\")"
   ]
  },
  {
   "cell_type": "code",
   "execution_count": 24,
   "metadata": {},
   "outputs": [
    {
     "name": "stdout",
     "output_type": "stream",
     "text": [
      "Accuracy:  97.92 %\n"
     ]
    }
   ],
   "source": [
    "from sklearn.ensemble import GradientBoostingClassifier\n",
    "\n",
    "gbc = GradientBoostingClassifier()\n",
    "gbc.fit(train_data, train_targets);\n",
    "print(\"Accuracy: \", round(gbc.score(test_data, test_targets) * 100, 2), \"%\")"
   ]
  }
 ],
 "metadata": {
  "kernelspec": {
   "display_name": "Python 3",
   "language": "python",
   "name": "python3"
  },
  "language_info": {
   "codemirror_mode": {
    "name": "ipython",
    "version": 3
   },
   "file_extension": ".py",
   "mimetype": "text/x-python",
   "name": "python",
   "nbconvert_exporter": "python",
   "pygments_lexer": "ipython3",
   "version": "3.6.9"
  }
 },
 "nbformat": 4,
 "nbformat_minor": 2
}
