{
 "cells": [
  {
   "cell_type": "code",
   "execution_count": 1,
   "metadata": {},
   "outputs": [],
   "source": [
    "import numpy as np\n",
    "import pandas as pd"
   ]
  },
  {
   "cell_type": "code",
   "execution_count": 35,
   "metadata": {},
   "outputs": [],
   "source": [
    "class SimpleCorrelator:\n",
    "    def __init__(self, x, y):\n",
    "        self.x = x\n",
    "        self.y = y\n",
    "        \n",
    "    def get_x(self):\n",
    "        return self.x\n",
    "    \n",
    "    def get_y(self):\n",
    "        return self.y\n",
    "    \n",
    "    def data_summary(self):\n",
    "        x_sum = \"X - Summary\\n\\tsize: {0}, mean: {1}, variance: {2} stdev: {3}\".format(np.size(self.x), \n",
    "                                                                                       np.mean(self.x), \n",
    "                                                                                       np.var(self.x), \n",
    "                                                                                       np.std(self.x))\n",
    "        \n",
    "        y_sum = \"Y - Summary\\n\\tsize: {0}, mean: {1}, variance: {2} stdev: {3}\".format(np.size(self.y), \n",
    "                                                                                       np.mean(self.y), \n",
    "                                                                                       np.var(self.y), \n",
    "                                                                                       np.std(self.y))\n",
    "        return x_sum, y_sum\n",
    "    \n",
    "    def __repr__(self):\n",
    "        return self.data_summary()\n",
    "    \n",
    "    def correlation(self):\n",
    "        return np.corrcoef(self.x, self.y)[1,0]\n"
   ]
  },
  {
   "cell_type": "code",
   "execution_count": 4,
   "metadata": {},
   "outputs": [],
   "source": [
    "sales = np.array([464.37,520.38,531.62,532.25,605.11,649.96,\n",
    "                  432.75,438.40,410.72,598.27,437.15,441.57,\n",
    "                  873.65,517.76,540.26,619.77,794.61,617.84,\n",
    "                  351.75,727.77,504.56,564.19,697.12,461.50,\n",
    "                  847.23,240.27,597.32,846.17,703.07,718.93,\n",
    "                  622.53,544.62,510.13,608.06,597.89,487.62,\n",
    "                  544.40,459.84,372.08,614.82,510.07,738.32,\n",
    "                  756.48,360.73,271.03,533.69,586.78,743.36,\n",
    "                  471.53,579.69])\n",
    "temps = np.array([73.75,66.56,87.54,78.79,82.35,80.50,\n",
    "                  76.09,74.13,74.83,76.13,76.41,72.08,\n",
    "                  86.30,72.82,75.10,81.44,84.11,85.19,\n",
    "                  70.34,81.89,78.31,78.35,89.29,77.31,\n",
    "                  84.41,71.94,80.34,90.42,83.31,83.32,\n",
    "                  76.81,74.50,73.16,77.07,81.04,77.14,\n",
    "                  75.20,70.03,72.63,80.29,66.07,82.50,\n",
    "                  83.00,69.97,61.72,77.11,76.07,85.83,\n",
    "                  72.72,75.16])"
   ]
  },
  {
   "cell_type": "code",
   "execution_count": 36,
   "metadata": {},
   "outputs": [
    {
     "name": "stdout",
     "output_type": "stream",
     "text": [
      "('X - Summary\\n\\tsize: 50, mean: 563.9997999999999, variance: 19767.82654196 stdev: 140.59810291024556', 'Y - Summary\\n\\tsize: 50, mean: 77.6274, variance: 36.03589524 stdev: 6.002990524730153')\n",
      "\n",
      "0.7989527835735526\n"
     ]
    }
   ],
   "source": [
    "correlator = SimpleCorrelator(sales, temps)\n",
    "\n",
    "x, y = correlator.data_summary()\n",
    "\n",
    "print(correlator.__repr__())\n",
    "print()\n",
    "print(correlator.correlation())"
   ]
  },
  {
   "cell_type": "code",
   "execution_count": null,
   "metadata": {},
   "outputs": [],
   "source": []
  },
  {
   "cell_type": "code",
   "execution_count": null,
   "metadata": {},
   "outputs": [],
   "source": []
  }
 ],
 "metadata": {
  "kernelspec": {
   "display_name": "Python 3",
   "language": "python",
   "name": "python3"
  },
  "language_info": {
   "codemirror_mode": {
    "name": "ipython",
    "version": 3
   },
   "file_extension": ".py",
   "mimetype": "text/x-python",
   "name": "python",
   "nbconvert_exporter": "python",
   "pygments_lexer": "ipython3",
   "version": "3.7.4"
  }
 },
 "nbformat": 4,
 "nbformat_minor": 2
}
