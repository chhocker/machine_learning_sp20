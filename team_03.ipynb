{
 "cells": [
  {
   "cell_type": "code",
   "execution_count": 5,
   "metadata": {},
   "outputs": [],
   "source": [
    "# Change directory to be where my code/data is\n",
    "import os\n",
    "os.chdir(\"/Users/Clair/_Machine_Learning\")"
   ]
  },
  {
   "cell_type": "code",
   "execution_count": 4,
   "metadata": {},
   "outputs": [],
   "source": [
    "from sklearn.neighbors import KNeighborsClassifier\n",
    "from sklearn.neighbors import KNeighborsRegressor\n",
    "import pandas as pd"
   ]
  },
  {
   "cell_type": "code",
   "execution_count": 26,
   "metadata": {},
   "outputs": [],
   "source": [
    "# Read in CSV file for student math \n",
    "data = pd.read_csv(\"student-mat.csv\", sep=\";\")\n",
    "data.school.value_counts()\n",
    "data.dtypes\n",
    "data.sex.value_counts()\n",
    "\n",
    "# make the values into columns\n",
    "data_new = pd.get_dummies(data, columns=[\"school\"])\n",
    "\n",
    "# You can set headers if headers do not exist\n",
    "\n",
    "\n",
    "\n",
    "data_new.head()\n",
    "\n",
    "data.Fjob = data.Fjob.astype(\"category\")\n",
    "data.dtypes\n",
    "\n",
    "data.Fjob.value_counts()\n",
    "data.Fjob.cat.codes\n",
    "\n",
    "# create new column and put the codes \n",
    "data[\"Fjob_codes\"] = data.Fjob.cat.codes\n",
    "\n",
    "#need to drop Fjob column now"
   ]
  },
  {
   "cell_type": "code",
   "execution_count": null,
   "metadata": {},
   "outputs": [],
   "source": [
    "# Using Classifications\n",
    "classifier = KNeighborsClassifier(n_neighbors=3)\n",
    "classifier.fit(train_data, train_target)\n",
    "predictions = classifier.predict(test_data)"
   ]
  },
  {
   "cell_type": "code",
   "execution_count": null,
   "metadata": {},
   "outputs": [],
   "source": [
    "# Using Regression\n",
    "\n",
    "regr = KNeighborsRegressor(n_neighbors=3)\n",
    "regr.fit(train_data, train_target)\n",
    "predictions = regr.predict(test_data)"
   ]
  }
 ],
 "metadata": {
  "kernelspec": {
   "display_name": "Python 3",
   "language": "python",
   "name": "python3"
  },
  "language_info": {
   "codemirror_mode": {
    "name": "ipython",
    "version": 3
   },
   "file_extension": ".py",
   "mimetype": "text/x-python",
   "name": "python",
   "nbconvert_exporter": "python",
   "pygments_lexer": "ipython3",
   "version": "3.7.4"
  }
 },
 "nbformat": 4,
 "nbformat_minor": 2
}
